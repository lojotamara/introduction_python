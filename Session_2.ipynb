{
 "cells": [
  {
   "cell_type": "markdown",
   "metadata": {},
   "source": [
    "\n",
    "![SVG from www](https://upload.wikimedia.org/wikipedia/commons/thumb/a/a2/Kühne_Logistics_University_logo_2019.svg/100px-Kühne_Logistics_University_logo_2019.svg.png)  \n",
    "# Introduction to Python  \n",
    "## The basics of python at Kuehne Logistics University  \n",
    "## Sep-2020  "
   ]
  },
  {
   "cell_type": "markdown",
   "metadata": {},
   "source": [
    "# Session 2:"
   ]
  },
  {
   "cell_type": "markdown",
   "metadata": {},
   "source": [
    "Introduction to different variable types: strings, numbers and booleans. Convert variables\n",
    "and basic operations. (Chapters 4 and 5 of the book)."
   ]
  },
  {
   "cell_type": "markdown",
   "metadata": {},
   "source": [
    "## Strings"
   ]
  },
  {
   "cell_type": "code",
   "execution_count": 1,
   "metadata": {},
   "outputs": [
    {
     "name": "stdout",
     "output_type": "stream",
     "text": [
      "It's the day\n",
      "She said \"hello\" to everyone\n",
      "Good day\n",
      "8\n",
      "Bob\n",
      "Eloise\n"
     ]
    }
   ],
   "source": [
    "# Printing pout some strings containing quotes\n",
    "print(\"It's the day\")\n",
    "print('She said \"hello\" to everyone')\n",
    "\n",
    "# Concatenataing strings together\n",
    "string_1 = 'Good'\n",
    "string_2 = \" day\"\n",
    "string_3 = string_1 + string_2\n",
    "print(string_3)\n",
    "print(len(string_3))\n",
    "\n",
    "my_variable = 'Bob'\n",
    "print(my_variable)\n",
    "my_variable = \"Eloise\"\n",
    "print(my_variable)\n",
    "\n"
   ]
  },
  {
   "cell_type": "code",
   "execution_count": 3,
   "metadata": {},
   "outputs": [
    {
     "name": "stdout",
     "output_type": "stream",
     "text": [
      "\n",
      "Hello\n",
      "  World\n",
      "\n",
      "<class 'str'>\n"
     ]
    }
   ],
   "source": [
    "# A multi line string\n",
    "z = \"\"\"\n",
    "Hello\n",
    "  World\n",
    "\"\"\"\n",
    "print(z)\n",
    "\n",
    "# Printing the type of a string - its class string\n",
    "my_variable = 'Bob'\n",
    "print(type(my_variable))\n"
   ]
  },
  {
   "cell_type": "code",
   "execution_count": 4,
   "metadata": {},
   "outputs": [
    {
     "name": "stdout",
     "output_type": "stream",
     "text": [
      "o\n",
      "ello\n",
      "Hello\n",
      "llo World\n",
      "\n",
      "HELLO\n",
      "  WORLD\n",
      "\n",
      "<class 'bytes'>\n"
     ]
    }
   ],
   "source": [
    "\n",
    "# Accessing parts of a string\n",
    "my_string = 'Hello World'\n",
    "print(my_string[4])\n",
    "print(my_string[1:5])\n",
    "print(my_string[:5])\n",
    "print(my_string[2:])\n",
    "\n",
    "# Converting a string to uppper case\n",
    "print(z.upper())\n",
    "\n",
    "print(type(b'abc'))\n"
   ]
  },
  {
   "cell_type": "code",
   "execution_count": 5,
   "metadata": {},
   "outputs": [
    {
     "name": "stdout",
     "output_type": "stream",
     "text": [
      "Source string: The Good, The Bad, and the Ugly\n",
      "Split using a space\n",
      "['The', 'Good,', 'The', 'Bad,', 'and', 'the', 'Ugly']\n",
      "Split using a comma\n",
      "['The Good', ' The Bad', ' and the Ugly']\n"
     ]
    }
   ],
   "source": [
    "\n",
    "# Splitting a string up\n",
    "title = 'The Good, The Bad, and the Ugly'\n",
    "print('Source string:', title)\n",
    "print('Split using a space')\n",
    "print(title.split(' '))\n",
    "print('Split using a comma')\n",
    "print(title.split(','))\n"
   ]
  },
  {
   "cell_type": "code",
   "execution_count": 6,
   "metadata": {},
   "outputs": [
    {
     "name": "stdout",
     "output_type": "stream",
     "text": [
      "my_string.count(' '): 8\n",
      "Goodbye World!\n",
      "**********\n",
      "HiHiHiHiHiHiHiHiHiHi\n"
     ]
    }
   ],
   "source": [
    "\n",
    "# Counting howmany times a substring appears in a string\n",
    "my_string = 'Count, the number     of spaces'\n",
    "print(\"my_string.count(' '):\", my_string.count(' '))\n",
    "\n",
    "# String replacement / substitution\n",
    "welcome_message = 'Hello World!'\n",
    "print(welcome_message.replace(\"Hello\", \"Goodbye\"))\n",
    "\n",
    "# Generating multiple strings\n",
    "print('*' * 10)\n",
    "print('Hi' * 10)\n",
    "\n"
   ]
  },
  {
   "cell_type": "code",
   "execution_count": 7,
   "metadata": {},
   "outputs": [
    {
     "name": "stdout",
     "output_type": "stream",
     "text": [
      "7\n",
      "-1\n",
      "True\n",
      "False\n",
      "True\n",
      "False\n"
     ]
    }
   ],
   "source": [
    "# Testing strings containing another string\n",
    "print('Edward Alan Rawlings'.find('Alan'))\n",
    "print('Edward John Rawlings'.find('Alan'))\n",
    "\n",
    "print('James' == 'James') # prints True\n",
    "print('James' == 'John') # prints False\n",
    "print('James' != 'John') # prints True\n",
    "print('James' == 'james') # prints False\n"
   ]
  },
  {
   "cell_type": "code",
   "execution_count": 8,
   "metadata": {},
   "outputs": [
    {
     "name": "stdout",
     "output_type": "stream",
     "text": [
      "Testing a String\n",
      "--------------------\n",
      "some_string Hello World\n",
      "some_string.startswith('H') True\n",
      "some_string.startswith('h') False\n",
      "some_string.endswith('d') True\n",
      "some_string.istitle() True\n",
      "some_string.isupper() False\n",
      "some_string.islower() False\n",
      "some_string.isalpha() False\n"
     ]
    }
   ],
   "source": [
    "\n",
    "# Various different string operations\n",
    "some_string = 'Hello World'\n",
    "print('Testing a String')\n",
    "print('-' * 20)\n",
    "print('some_string', some_string)\n",
    "print(\"some_string.startswith('H')\", some_string.startswith('H'))\n",
    "print(\"some_string.startswith('h')\", some_string.startswith('h'))\n",
    "print(\"some_string.endswith('d')\", some_string.endswith('d'))\n",
    "print('some_string.istitle()', some_string.istitle())\n",
    "print('some_string.isupper()', some_string.isupper())\n",
    "print('some_string.islower()', some_string.islower())\n",
    "print('some_string.isalpha()', some_string.isalpha())\n",
    "\n"
   ]
  },
  {
   "cell_type": "code",
   "execution_count": 9,
   "metadata": {},
   "outputs": [
    {
     "name": "stdout",
     "output_type": "stream",
     "text": [
      "String conversions\n",
      "--------------------\n",
      "some_string.upper() HELLO WORLD\n",
      "some_string.lower() hello world\n",
      "some_string.title() Hello World\n",
      "some_string.swapcase() hELLO wORLD\n",
      "String leading, trailing spaces xyz\n",
      "Hello Lloyd you are 21\n"
     ]
    }
   ],
   "source": [
    "print('String conversions')\n",
    "print('-' * 20)\n",
    "print('some_string.upper()', some_string.upper())\n",
    "print('some_string.lower()', some_string.lower())\n",
    "print('some_string.title()', some_string.title())\n",
    "print('some_string.swapcase()', some_string.swapcase())\n",
    "print('String leading, trailing spaces', \"   xyz   \".strip())\n",
    "\n",
    "# Adding a number to a string - need to use the str() function\n",
    "msg = 'Hello Lloyd you are ' + str(21)\n",
    "print(msg)"
   ]
  },
  {
   "cell_type": "markdown",
   "metadata": {},
   "source": [
    "## String Format"
   ]
  },
  {
   "cell_type": "code",
   "execution_count": 3,
   "metadata": {},
   "outputs": [
    {
     "name": "stdout",
     "output_type": "stream",
     "text": [
      "Hello Phoebe!\n",
      "Adam is 20 years old\n",
      "Hello Carol Smith, you got 75%\n",
      "Paloma Faith sang Guilty in 2017\n",
      "|25 characters width      |\n",
      "|left aligned             |\n",
      "|            right aligned|\n",
      "|        centered         |\n",
      "1,234,567,890\n",
      "1,234,567,890.0\n"
     ]
    }
   ],
   "source": [
    "# Basic string formatting example\n",
    "format_string = 'Hello {}!'\n",
    "print(format_string.format('Phoebe'))\n",
    "\n",
    "# Allows multiple values to populate the string\n",
    "name = \"Adam\"\n",
    "age = 20\n",
    "print(\"{} is {} years old\".format(name, age))\n",
    "\n",
    "# Can specify an index for the substitution\n",
    "format_string = \"Hello {1} {0}, you got {2}%\"\n",
    "print(format_string.format('Smith', 'Carol', 75))\n",
    "\n",
    "# Can use named substitutions, order is not significant\n",
    "format_string = \"{artist} sang {song} in {year}\"\n",
    "print(format_string.format(artist='Paloma Faith', song='Guilty', year=2017))\n",
    "\n",
    "print('|{:25}|'.format('25 characters width'))\n",
    "\n",
    "print('|{:<25}|'.format('left aligned')) # Same as not specifying an alignment\n",
    "print('|{:>25}|'.format('right aligned'))\n",
    "print('|{:^25}|'.format('centered'))\n",
    "\n",
    "# Can format numbers with comma as thousands separator\n",
    "print('{:,}'.format(1234567890))\n",
    "print('{:,}'.format(1234567890.0))"
   ]
  },
  {
   "cell_type": "markdown",
   "metadata": {},
   "source": [
    "## String Templates"
   ]
  },
  {
   "cell_type": "code",
   "execution_count": 4,
   "metadata": {},
   "outputs": [
    {
     "name": "stdout",
     "output_type": "stream",
     "text": [
      "Freddie Mercury sang The Great Pretender in 1987\n",
      "Ed Sheeran sang Galway Girl in 2017\n",
      "Camila Cabello sang Havana in 2018\n",
      "Billy Idol sang Eyes Without a Face in 1984\n",
      "David Bowie sang Rebel Rebel in $year\n"
     ]
    }
   ],
   "source": [
    "import string\n",
    "\n",
    "# Initialise the template with variables that\n",
    "# will be substitute with actual values\n",
    "template = string.Template('$artist sang $song in $year')\n",
    "\n",
    "# Replace substitute variables with actual value\n",
    "# Can use a key : value pair that indicates the values to replace\n",
    "print(template.substitute(artist='Freddie Mercury', song='The Great Pretender', year=1987))\n",
    "print(template.substitute(artist='Ed Sheeran', song='Galway Girl', year=2017))\n",
    "print(template.substitute(artist='Camila Cabello', song='Havana', year=2018))\n",
    "\n",
    "# Using a dictionary to provide the value for the template variables\n",
    "d = dict(artist = 'Billy Idol', song='Eyes Without a Face', year = 1984)\n",
    "print(template.substitute(d))\n",
    "\n",
    "# Optionally providing only some of the template variable values\n",
    "# print(template.substitute(artist='David Bowie', song='Rebel Rebel'))\n",
    "print(template.safe_substitute(artist='David Bowie', song='Rebel Rebel'))"
   ]
  },
  {
   "cell_type": "code",
   "execution_count": null,
   "metadata": {},
   "outputs": [],
   "source": []
  }
 ],
 "metadata": {
  "kernelspec": {
   "display_name": "Python 3",
   "language": "python",
   "name": "python3"
  },
  "language_info": {
   "codemirror_mode": {
    "name": "ipython",
    "version": 3
   },
   "file_extension": ".py",
   "mimetype": "text/x-python",
   "name": "python",
   "nbconvert_exporter": "python",
   "pygments_lexer": "ipython3",
   "version": "3.8.3"
  }
 },
 "nbformat": 4,
 "nbformat_minor": 4
}
