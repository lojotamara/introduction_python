{
 "cells": [
  {
   "cell_type": "markdown",
   "metadata": {},
   "source": [
    "\n",
    "![SVG from www](https://upload.wikimedia.org/wikipedia/commons/thumb/a/a2/Kühne_Logistics_University_logo_2019.svg/100px-Kühne_Logistics_University_logo_2019.svg.png)  \n",
    "# Introduction to Python  \n",
    "## The basics of python at Kuehne Logistics University  \n",
    "## Sep-2020  "
   ]
  },
  {
   "cell_type": "markdown",
   "metadata": {},
   "source": [
    "# Session 1:   \n",
    "Introduction to python 3 programming language. We will set up the python environment, install python and introduce them to online support resources (Chapters 1, 2 and 3 of the mandatory book)."
   ]
  },
  {
   "cell_type": "markdown",
   "metadata": {},
   "source": [
    "# Python  \n",
    "There are natural languages and programming languages (formal language):\n",
    "- Ambiguety\n",
    "- Redundancy  \n",
    "\n",
    "Python is a programming language similar to other languages such as: C++ or JavaScript.  \n",
    "In this course we will use Python 3 launched in 2008."
   ]
  },
  {
   "cell_type": "markdown",
   "metadata": {},
   "source": [
    "# 1) Firstly: Python development environments\n",
    "These are code editors that facilitates the coding and debugging. Here a list of some of the more popular ones that you can choose to use:"
   ]
  },
  {
   "cell_type": "markdown",
   "metadata": {},
   "source": [
    "## 1- Pycharm  \n",
    "![SVG from www](https://upload.wikimedia.org/wikipedia/commons/thumb/a/a1/PyCharm_Logo.svg/120px-PyCharm_Logo.svg.png)  \n",
    "\n",
    "This is the one recommended by the book that we are going to use during this course.  \n",
    "- Download the pycharm IDE: https://www.jetbrains.com/   \n",
    "- Find the shortcut map for Windows: https://resources.jetbrains.com/storage/products/pycharm/docs/PyCharm_ReferenceCard.pdf?_ga=2.30166591.1046451985.1597140235-1149537143.1597140235  \n",
    "- And for Mac: https://resources.jetbrains.com/storage/products/pycharm/docs/PyCharm_ReferenceCard_mac.pdf?_ga=2.30166591.1046451985.1597140235-1149537143.1597140235"
   ]
  },
  {
   "cell_type": "markdown",
   "metadata": {},
   "source": [
    "## 2- JupyterLab  \n",
    "\n",
    "![SVG from www](https://blog.thedataincubator.com/wp-content/uploads/2017/01/jupyter-logo-150x150.png)  \n",
    "\n",
    "Download Link: https://jupyter.org/install.html"
   ]
  },
  {
   "cell_type": "markdown",
   "metadata": {},
   "source": [
    "## 3- Spyder  \n",
    "![SVG from www](https://upload.wikimedia.org/wikipedia/commons/thumb/7/7e/Spyder_logo.svg/185px-Spyder_logo.svg.png)  \n",
    " \n",
    "Download Link: https://www.spyder-ide.org/"
   ]
  },
  {
   "cell_type": "markdown",
   "metadata": {},
   "source": [
    "# 2) Secondly: get a github account!"
   ]
  },
  {
   "cell_type": "markdown",
   "metadata": {},
   "source": [
    "- We recommend you to get a github account in https://github.com"
   ]
  },
  {
   "cell_type": "markdown",
   "metadata": {},
   "source": [
    "- github is a repository and it is very useful for collaborative developments because many people is allowed to participate, contribute, pull requests in order to merge different works."
   ]
  },
  {
   "cell_type": "markdown",
   "metadata": {},
   "source": [
    "- Find this presentation in: https://github.com/lojotamara/introduction_python.git"
   ]
  },
  {
   "cell_type": "markdown",
   "metadata": {},
   "source": [
    "- Find the book examples and exercises in: https://github.com/johnehunt/beginnerspython3.git"
   ]
  },
  {
   "cell_type": "markdown",
   "metadata": {},
   "source": [
    "# 3) Why learn Python?  \n",
    "1- Easy to learn  \n",
    "2- Data Science Community uses it and it provides standards  \n",
    "3- It runs in almost all operation systems  \n",
    "4- It has many libraries  \n",
    "5- It is free!  \n",
    "\n"
   ]
  },
  {
   "cell_type": "markdown",
   "metadata": {},
   "source": [
    "## Useful resources:  \n",
    "- https://docs.python.org/3/ The main Python 3 documentation site. It contains tutorials, library references, set up and installation guides as well as Python how-tos.  \n",
    "- https://www.fullstackpython.com/email.html is a monthly newsletter that focusses on a single Python topic each month, such as a new library or module.  \n",
    "- https://stackoverflow.com/ for specific coding questions that you might have."
   ]
  },
  {
   "cell_type": "markdown",
   "metadata": {},
   "source": [
    "# Python set up  \n",
    "- Type python in your terminal  \n",
    "- Download python: http://www.python.org  \n",
    "- Run your first script: print('Hello World')  \n",
    "- exit()"
   ]
  },
  {
   "cell_type": "markdown",
   "metadata": {},
   "source": [
    "## Menu Bar\n",
    "The menu bar is at the top of window. The default menus you can find in this are −'\n",
    "\n",
    "File − Actions related to files and directories.\n",
    "\n",
    "Edit − Actions related to editing documents and other activities.\n",
    "\n",
    "View − Actions that alter the appearance of JupyterLab.\n",
    "\n",
    "Run − Actions for running code in different activities such as notebooks and code consoles.\n",
    "\n",
    "Kernel − Actions for managing kernels, which are separate processes for running code.\n",
    "\n",
    "Tabs − A list of the open documents and activities in the dock panel.\n",
    "\n",
    "Settings − Common settings and an advanced settings editor.\n",
    "\n",
    "Help − A list of JupyterLab and kernel help links.\n",
    "\n",
    "The left sidebar shows buttons for starting a new launcher, adding a folder, uploading file and refresh file list. The right pane is the main working area where notebook, console and terminals are shown in tabbed view.\n",
    "\n",
    "To start a new console, click + symbol in the left side bar to open a new launcher and then click the console option. The console will open in new tab on the right pane."
   ]
  },
  {
   "cell_type": "markdown",
   "metadata": {},
   "source": [
    "Note that the input cell is at the bottom, but when it is run, the cell and its corresponding output cell appears in upper part of console tab.\n",
    "\n",
    "The launcher also allows you open a text editor and a terminal in which IPython shell can be invoked."
   ]
  },
  {
   "cell_type": "markdown",
   "metadata": {},
   "source": [
    "## Before we start.. some Shortcuts for you:\n",
    " - ESC takes users into command mode view\n",
    " - ENTER takes users into cell mode view\n",
    " \n",
    " - Ctrl + Enter = Run the cell\n",
    " - Shift + Enter = Run the cell and select the cell below\n",
    " - Alt + Enter = Run the cell and insert a new cell below\n",
    " \n",
    " - B = inserts a cell below the currently selected cell. Before using this make sure that you are in command mode (by pressing ESC)\n",
    " - D + D = Pressing D two times in a quick succession in command mode deletes the currently selected cell\n",
    " - M = change current cell to a markdown cell, Y = change it to a code cell,  R = change it to a raw cell\n",
    " \n",
    " - Ctrl + S = Save"
   ]
  },
  {
   "cell_type": "markdown",
   "metadata": {},
   "source": [
    "# 4) Python code to draw"
   ]
  },
  {
   "cell_type": "code",
   "execution_count": 2,
   "metadata": {},
   "outputs": [
    {
     "name": "stdout",
     "output_type": "stream",
     "text": [
      "   /|\n",
      "  / |\n",
      " /  |\n",
      "/___|\n"
     ]
    }
   ],
   "source": [
    "print(\"   /|\")\n",
    "print(\"  / |\")\n",
    "print(\" /  |\")\n",
    "print(\"/___|\")"
   ]
  },
  {
   "cell_type": "markdown",
   "metadata": {},
   "source": [
    "The instructions need to be in order"
   ]
  },
  {
   "cell_type": "markdown",
   "metadata": {},
   "source": [
    "# 5) Run your first program  "
   ]
  },
  {
   "cell_type": "markdown",
   "metadata": {},
   "source": [
    "There are different ways of running a program:  \n",
    "- Using the python interpreter  \n",
    "- Stored in a file and run using the python command  \n",
    "- Run as a script file specifying the environment  \n",
    "- From whithin a Python development environment such as Pycharm"
   ]
  },
  {
   "cell_type": "code",
   "execution_count": 1,
   "metadata": {},
   "outputs": [
    {
     "name": "stdout",
     "output_type": "stream",
     "text": [
      "Hello World\n"
     ]
    }
   ],
   "source": [
    "print('Hello World')"
   ]
  },
  {
   "cell_type": "code",
   "execution_count": 3,
   "metadata": {},
   "outputs": [
    {
     "name": "stdin",
     "output_type": "stream",
     "text": [
      "Enter your name:  Martin Bergemann\n"
     ]
    }
   ],
   "source": [
    "user_name = input('Enter your name: ')"
   ]
  },
  {
   "cell_type": "code",
   "execution_count": 4,
   "metadata": {},
   "outputs": [
    {
     "name": "stdout",
     "output_type": "stream",
     "text": [
      "Hello Martin Bergemann\n"
     ]
    }
   ],
   "source": [
    "print('Hello', user_name)"
   ]
  },
  {
   "cell_type": "code",
   "execution_count": 6,
   "metadata": {},
   "outputs": [
    {
     "name": "stdout",
     "output_type": "stream",
     "text": [
      "Hello, world\n"
     ]
    },
    {
     "name": "stdin",
     "output_type": "stream",
     "text": [
      "Enter your name:  Bal Bal\n"
     ]
    },
    {
     "name": "stdout",
     "output_type": "stream",
     "text": [
      "Hello Bal Bal\n"
     ]
    },
    {
     "name": "stdin",
     "output_type": "stream",
     "text": [
      "What is the name of your best friend:  Bla lba\n"
     ]
    },
    {
     "name": "stdout",
     "output_type": "stream",
     "text": [
      "Hello Best Friend Bla lba\n"
     ]
    }
   ],
   "source": [
    "print('Hello, world')\n",
    "name = input('Enter your name: ')\n",
    "print('Hello', name)\n",
    "name = input('What is the name of your best friend: ')\n",
    "print('Hello Best Friend', name)"
   ]
  },
  {
   "cell_type": "code",
   "execution_count": 7,
   "metadata": {},
   "outputs": [
    {
     "name": "stdout",
     "output_type": "stream",
     "text": [
      "John\n",
      "42\n",
      "True\n"
     ]
    }
   ],
   "source": [
    "my_variable = 'John'\n",
    "print(my_variable)\n",
    "my_variable = 42\n",
    "print(my_variable)\n",
    "my_variable = True\n",
    "print(my_variable)"
   ]
  },
  {
   "cell_type": "code",
   "execution_count": 8,
   "metadata": {},
   "outputs": [
    {
     "name": "stdin",
     "output_type": "stream",
     "text": [
      "Enter your name:  1\n"
     ]
    },
    {
     "name": "stdout",
     "output_type": "stream",
     "text": [
      "1\n"
     ]
    }
   ],
   "source": [
    "# This is a comment\n",
    "name = input('Enter your name: ')\n",
    "# This is another comment\n",
    "print(name) # this is a comment to the end of the line"
   ]
  },
  {
   "cell_type": "markdown",
   "metadata": {},
   "source": [
    "- So, variables can hold any string such as \"Tamara\" or \"John\" as well as it can hold other type of data such as numbers or the values 'True' and 'False'.\n",
    "- Be aware of naming conventions: always use underscores and not spaces and always in lower case.\n",
    "- Assignment operators \"=\".\n",
    "- Statements: an instruction that the Python interpreter can execute\n",
    "- Comments in the code: '#'"
   ]
  },
  {
   "cell_type": "markdown",
   "metadata": {},
   "source": [
    "# Exercises"
   ]
  },
  {
   "cell_type": "markdown",
   "metadata": {},
   "source": [
    "__Ex1__:Create a program that displays your name and complete mailing address formatted in\n",
    "the manner that you would usually see it on the outside of an envelope. Your program\n",
    "does not need to read any input from the user"
   ]
  },
  {
   "cell_type": "markdown",
   "metadata": {},
   "source": [
    "__Ex2:__ Write a program that asks the user to enter his or her name. The program should\n",
    "respond with a message that says hello to the user, using his or her name"
   ]
  },
  {
   "cell_type": "markdown",
   "metadata": {},
   "source": [
    "__Ex3:__ Write a program that asks the user his age.The program shoud deliver a text that says \"Hello, I am _ years old\" with the users' age."
   ]
  },
  {
   "cell_type": "markdown",
   "metadata": {},
   "source": [
    "__Ex4:__ Write a program that asks the user to enter the width and length of a room. Once the values have been read, your program should compute and display the area of the room. The length and the width will be entered as floating point numbers. Include units in your prompt and output message; either feet or meters, depending on which unit you are more comfortable working with."
   ]
  },
  {
   "cell_type": "markdown",
   "metadata": {},
   "source": [
    "__Ex 5:__ Create a program that reads the length and width of a farmer’s field from the user in feet. Display the area of the field in acres.\n",
    "Hint: There are 43,560 square feet in an acre."
   ]
  },
  {
   "cell_type": "markdown",
   "metadata": {},
   "source": [
    "__Ex 5:__ Write a program that reads a positive integer, n, from the user and then displays the sum of all of the integers from 1 to n. The sum of the first n positive integers can be computed  the formula:  \n"
   ]
  },
  {
   "cell_type": "markdown",
   "metadata": {},
   "source": [
    "$$sum =  \\displaystyle \\frac{(n)(n+1)}{2}$$\n"
   ]
  }
 ],
 "metadata": {
  "kernelspec": {
   "display_name": "Python Course",
   "language": "python",
   "name": "py_course"
  },
  "language_info": {
   "codemirror_mode": {
    "name": "ipython",
    "version": 3
   },
   "file_extension": ".py",
   "mimetype": "text/x-python",
   "name": "python",
   "nbconvert_exporter": "python",
   "pygments_lexer": "ipython3",
   "version": "3.8.5"
  }
 },
 "nbformat": 4,
 "nbformat_minor": 4
}
