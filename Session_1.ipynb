{
 "cells": [
  {
   "cell_type": "markdown",
   "metadata": {},
   "source": [
    "\n",
    "![SVG from www](https://upload.wikimedia.org/wikipedia/commons/thumb/a/a2/Kühne_Logistics_University_logo_2019.svg/100px-Kühne_Logistics_University_logo_2019.svg.png)  \n",
    "# Introduction to Python  \n",
    "## The basics of python at Kuehne Logistics University  \n",
    "## Sep-2020  "
   ]
  },
  {
   "cell_type": "markdown",
   "metadata": {},
   "source": [
    "# Session 1:   \n",
    "Introduction to python 3 programming language. We will set up the python environment, install python and introduce them to online support resources (Chapters 1, 2 and 3 of the mandatory book)."
   ]
  },
  {
   "cell_type": "markdown",
   "metadata": {},
   "source": [
    "# Python  \n",
    "There are natural languages and programming languages (formal language):\n",
    "- Ambiguety\n",
    "- Redundancy  \n",
    "\n",
    "Python is a programming language similar to other languages such as: C++ or JavaScript.  \n",
    "In this course we will use Python 3 launched in 2008."
   ]
  },
  {
   "cell_type": "markdown",
   "metadata": {},
   "source": [
    "# 1) Firstly: Python development environments\n",
    "These are code editors that facilitates the coding and debugging. Here a list of some of the more popular ones that you can choose to use:"
   ]
  },
  {
   "cell_type": "markdown",
   "metadata": {},
   "source": [
    "## 1- Pycharm  \n",
    "![SVG from www](https://upload.wikimedia.org/wikipedia/commons/thumb/a/a1/PyCharm_Logo.svg/120px-PyCharm_Logo.svg.png)  \n",
    "\n",
    "This is the one recommended by the book that we are going to use during this course.  \n",
    "- Download the pycharm IDE: https://www.jetbrains.com/   \n",
    "- Find the shortcut map for Windows: https://resources.jetbrains.com/storage/products/pycharm/docs/PyCharm_ReferenceCard.pdf?_ga=2.30166591.1046451985.1597140235-1149537143.1597140235  \n",
    "- And for Mac: https://resources.jetbrains.com/storage/products/pycharm/docs/PyCharm_ReferenceCard_mac.pdf?_ga=2.30166591.1046451985.1597140235-1149537143.1597140235"
   ]
  },
  {
   "cell_type": "markdown",
   "metadata": {},
   "source": [
    "## 2- JupyterLab  \n",
    "\n",
    "![SVG from www](https://blog.thedataincubator.com/wp-content/uploads/2017/01/jupyter-logo-150x150.png)  \n",
    "\n",
    "Download Link: https://jupyter.org/install.html"
   ]
  },
  {
   "cell_type": "markdown",
   "metadata": {},
   "source": [
    "## 3- Spyder  \n",
    "![SVG from www](https://upload.wikimedia.org/wikipedia/commons/thumb/7/7e/Spyder_logo.svg/185px-Spyder_logo.svg.png)  \n",
    " \n",
    "Download Link: https://www.spyder-ide.org/"
   ]
  },
  {
   "cell_type": "markdown",
   "metadata": {},
   "source": [
    "# 2) Secondly: get a github account!"
   ]
  },
  {
   "cell_type": "markdown",
   "metadata": {},
   "source": [
    "- We recommend you to get a github account in https://github.com"
   ]
  },
  {
   "cell_type": "markdown",
   "metadata": {},
   "source": [
    "- github is a repository and it is very useful for collaborative developments because many people is allowed to participate, contribute, pull requests in order to merge different works."
   ]
  },
  {
   "cell_type": "markdown",
   "metadata": {},
   "source": [
    "- Find this presentation in: https://github.com/lojotamara/introduction_python.git"
   ]
  },
  {
   "cell_type": "markdown",
   "metadata": {},
   "source": [
    "- Find the book examples and exercises in: https://github.com/johnehunt/beginnerspython3.git"
   ]
  },
  {
   "cell_type": "markdown",
   "metadata": {},
   "source": [
    "# 3) Why learn Python?  \n",
    "1- Easy to learn  \n",
    "2- Data Science Community uses it and it provides standards  \n",
    "3- It runs in almost all operation systems  \n",
    "4- It has many libraries  \n",
    "5- It is free!  \n",
    "\n"
   ]
  },
  {
   "cell_type": "markdown",
   "metadata": {},
   "source": [
    "## Useful resources:  \n",
    "- https://docs.python.org/3/ The main Python 3 documentation site. It contains tutorials, library references, set up and installation guides as well as Python how-tos.  \n",
    "- https://www.fullstackpython.com/email.html is a monthly newsletter that focusses on a single Python topic each month, such as a new library or module.  \n",
    "- https://stackoverflow.com/ for specific coding questions that you might have."
   ]
  },
  {
   "cell_type": "markdown",
   "metadata": {},
   "source": [
    "# Python set up  \n",
    "- Type python in your terminal  \n",
    "- Download python: http://www.python.org  \n",
    "- Run your first script: print('Hello World')  \n",
    "- exit()"
   ]
  },
  {
   "cell_type": "markdown",
   "metadata": {},
   "source": [
    "Only for me:\n",
    "In the terminal:  \n",
    "which python  \n",
    "gives me the executable\n",
    "In Pycharm:  \n",
    "print (sys.executable)  \n",
    "\n",
    "I could go to the pycharm directory (executable) and then \"python hello.py\" to run it.  \n",
    "Otherwise, I can in pycharm add the python executable:  \n",
    "#!/home/tamara/.anaconda3/bin/python (the executable of python found in the terminal)  \n",
    "and in the terminal:\n",
    "from the pycharm executable i type \"chmod +x hello.py\" which makes the program executable (this only needed in linux).  \n",
    "therefore, from the pycharm executable i directly write ./hello.py and i execute the program without having to type \"python\"\n"
   ]
  },
  {
   "cell_type": "markdown",
   "metadata": {},
   "source": [
    "# 4) Run your first program  "
   ]
  },
  {
   "cell_type": "markdown",
   "metadata": {},
   "source": [
    "There are different ways of running a program:  \n",
    "- Using the python interpreter  \n",
    "- Stored in a file and run using the python command  \n",
    "- Run as a script file specifying the environment  \n",
    "- From whithin a Python development environment such as Pycharm"
   ]
  },
  {
   "cell_type": "code",
   "execution_count": 1,
   "metadata": {},
   "outputs": [
    {
     "name": "stdout",
     "output_type": "stream",
     "text": [
      "Hello World\n"
     ]
    }
   ],
   "source": [
    "print('Hello World')"
   ]
  },
  {
   "cell_type": "code",
   "execution_count": 3,
   "metadata": {},
   "outputs": [
    {
     "name": "stdin",
     "output_type": "stream",
     "text": [
      "Enter your name:  Martin Bergemann\n"
     ]
    }
   ],
   "source": [
    "user_name = input('Enter your name: ')"
   ]
  },
  {
   "cell_type": "code",
   "execution_count": 4,
   "metadata": {},
   "outputs": [
    {
     "name": "stdout",
     "output_type": "stream",
     "text": [
      "Hello Martin Bergemann\n"
     ]
    }
   ],
   "source": [
    "print('Hello', user_name)"
   ]
  },
  {
   "cell_type": "code",
   "execution_count": 6,
   "metadata": {},
   "outputs": [
    {
     "name": "stdout",
     "output_type": "stream",
     "text": [
      "Hello, world\n"
     ]
    },
    {
     "name": "stdin",
     "output_type": "stream",
     "text": [
      "Enter your name:  Bal Bal\n"
     ]
    },
    {
     "name": "stdout",
     "output_type": "stream",
     "text": [
      "Hello Bal Bal\n"
     ]
    },
    {
     "name": "stdin",
     "output_type": "stream",
     "text": [
      "What is the name of your best friend:  Bla lba\n"
     ]
    },
    {
     "name": "stdout",
     "output_type": "stream",
     "text": [
      "Hello Best Friend Bla lba\n"
     ]
    }
   ],
   "source": [
    "print('Hello, world')\n",
    "name = input('Enter your name: ')\n",
    "print('Hello', name)\n",
    "name = input('What is the name of your best friend: ')\n",
    "print('Hello Best Friend', name)"
   ]
  },
  {
   "cell_type": "code",
   "execution_count": 7,
   "metadata": {},
   "outputs": [
    {
     "name": "stdout",
     "output_type": "stream",
     "text": [
      "John\n",
      "42\n",
      "True\n"
     ]
    }
   ],
   "source": [
    "my_variable = 'John'\n",
    "print(my_variable)\n",
    "my_variable = 42\n",
    "print(my_variable)\n",
    "my_variable = True\n",
    "print(my_variable)"
   ]
  },
  {
   "cell_type": "code",
   "execution_count": 8,
   "metadata": {},
   "outputs": [
    {
     "name": "stdin",
     "output_type": "stream",
     "text": [
      "Enter your name:  1\n"
     ]
    },
    {
     "name": "stdout",
     "output_type": "stream",
     "text": [
      "1\n"
     ]
    }
   ],
   "source": [
    "# This is a comment\n",
    "name = input('Enter your name: ')\n",
    "# This is another comment\n",
    "print(name) # this is a comment to the end of the line"
   ]
  },
  {
   "cell_type": "markdown",
   "metadata": {},
   "source": [
    "- So, variables can hold any string such as \"Tamara§ or \"John\" as well as it can hold other type of data such as numbers or the values 'True' and 'False'.\n",
    "- Be aware of naming conventions: always use underscores and not spaces and always in lower case.\n",
    "- Assignment operators \"=\".\n",
    "- Statements: an instruction that the Python interpreter can execute\n",
    "- Comments in the code: '#'"
   ]
  },
  {
   "cell_type": "markdown",
   "metadata": {},
   "source": [
    "## Basic packages installation: pip and conda?  \n",
    "Installations of packages? Should we suggest that they install Anaconda directly?  \n",
    "I was thinking to send an email before the class with links so they can install:\n",
    "- python 3 (if they do not have it yet)\n",
    "- pycharm\n",
    "- Maybe we can recommend them to install Anaconda, that might facilitate all the install packages process.\n",
    "- Create a git-hub account"
   ]
  },
  {
   "cell_type": "code",
   "execution_count": null,
   "metadata": {},
   "outputs": [],
   "source": []
  }
 ],
 "metadata": {
  "kernelspec": {
   "display_name": "Python 3",
   "language": "python",
   "name": "python3"
  },
  "language_info": {
   "codemirror_mode": {
    "name": "ipython",
    "version": 3
   },
   "file_extension": ".py",
   "mimetype": "text/x-python",
   "name": "python",
   "nbconvert_exporter": "python",
   "pygments_lexer": "ipython3",
   "version": "3.8.3"
  }
 },
 "nbformat": 4,
 "nbformat_minor": 4
}
