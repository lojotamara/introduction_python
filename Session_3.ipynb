{
 "cells": [
  {
   "cell_type": "markdown",
   "metadata": {},
   "source": [
    "\n",
    "![SVG from www](https://upload.wikimedia.org/wikipedia/commons/thumb/a/a2/Kühne_Logistics_University_logo_2019.svg/100px-Kühne_Logistics_University_logo_2019.svg.png)  \n",
    "# Introduction to Python  \n",
    "## The basics of python at Kuehne Logistics University  \n",
    "## Sep-2020  "
   ]
  },
  {
   "cell_type": "markdown",
   "metadata": {},
   "source": [
    "# Session 3:"
   ]
  },
  {
   "cell_type": "markdown",
   "metadata": {},
   "source": [
    "Logical operations and if statements. Iterations using the “while Loop” and “for Loop”-.\n",
    "Setting up a game and running a “guessing game”. (Chapters 6, 7 and 8)."
   ]
  },
  {
   "cell_type": "markdown",
   "metadata": {},
   "source": [
    "## Comparison operators: return Boolean values"
   ]
  },
  {
   "cell_type": "code",
   "execution_count": 1,
   "metadata": {},
   "outputs": [
    {
     "data": {
      "text/plain": [
       "True"
      ]
     },
     "execution_count": 1,
     "metadata": {},
     "output_type": "execute_result"
    }
   ],
   "source": [
    "3 ==3\n"
   ]
  },
  {
   "cell_type": "code",
   "execution_count": 2,
   "metadata": {},
   "outputs": [
    {
     "data": {
      "text/plain": [
       "True"
      ]
     },
     "execution_count": 2,
     "metadata": {},
     "output_type": "execute_result"
    }
   ],
   "source": [
    "2 != 3\n"
   ]
  },
  {
   "cell_type": "code",
   "execution_count": 3,
   "metadata": {},
   "outputs": [
    {
     "data": {
      "text/plain": [
       "False"
      ]
     },
     "execution_count": 3,
     "metadata": {},
     "output_type": "execute_result"
    }
   ],
   "source": [
    "4 == 2"
   ]
  },
  {
   "cell_type": "markdown",
   "metadata": {},
   "source": [
    "# Logical operators"
   ]
  },
  {
   "cell_type": "markdown",
   "metadata": {},
   "source": [
    "| Operator | Description | Example|\n",
    "| --- | --- | --- |\n",
    "| and | Returns True if both are right | (3 < 4) and (5 < 4) |\n",
    "| or | Returns True if either is correct | (3 < 4) or (3 > 5) |\n",
    "| not | Returns true if the value being tested is False | not 3 < 2 |"
   ]
  },
  {
   "cell_type": "markdown",
   "metadata": {},
   "source": [
    "Math operators: operators like +, -, *, /, //, %, and **"
   ]
  },
  {
   "cell_type": "markdown",
   "metadata": {},
   "source": [
    "## The if statement"
   ]
  },
  {
   "cell_type": "code",
   "execution_count": 6,
   "metadata": {},
   "outputs": [
    {
     "name": "stdin",
     "output_type": "stream",
     "text": [
      "Enter a number:  -3\n"
     ]
    }
   ],
   "source": [
    "num = int(input('Enter a number: '))\n"
   ]
  },
  {
   "cell_type": "code",
   "execution_count": 7,
   "metadata": {},
   "outputs": [
    {
     "name": "stdout",
     "output_type": "stream",
     "text": [
      "-3 is negative\n"
     ]
    }
   ],
   "source": [
    "if num < 0:\n",
    "    print(num, 'is negative')"
   ]
  },
  {
   "cell_type": "code",
   "execution_count": 12,
   "metadata": {},
   "outputs": [
    {
     "name": "stdin",
     "output_type": "stream",
     "text": [
      "Enter another number:  13\n"
     ]
    }
   ],
   "source": [
    "num = int(input('Enter another number: '))"
   ]
  },
  {
   "cell_type": "code",
   "execution_count": 14,
   "metadata": {},
   "outputs": [
    {
     "name": "stdout",
     "output_type": "stream",
     "text": [
      "13 is positive\n",
      "13 squared is 169\n",
      "Bye\n"
     ]
    }
   ],
   "source": [
    "if num > 0:\n",
    "    print(num, 'is positive')\n",
    "    print(num, 'squared is', num**2)\n",
    "print('Bye')"
   ]
  },
  {
   "cell_type": "markdown",
   "metadata": {},
   "source": [
    "## Else"
   ]
  },
  {
   "cell_type": "code",
   "execution_count": 15,
   "metadata": {},
   "outputs": [
    {
     "name": "stdin",
     "output_type": "stream",
     "text": [
      "Enter yet another number:  3\n"
     ]
    }
   ],
   "source": [
    "num = int(input('Enter yet another number: '))"
   ]
  },
  {
   "cell_type": "code",
   "execution_count": 16,
   "metadata": {},
   "outputs": [
    {
     "name": "stdout",
     "output_type": "stream",
     "text": [
      "3 is not negative\n"
     ]
    }
   ],
   "source": [
    "if num < 0:\n",
    "    print (num, 'is negative')\n",
    "else:\n",
    "    print(num, 'is not negative')"
   ]
  },
  {
   "cell_type": "markdown",
   "metadata": {},
   "source": [
    "## Elif"
   ]
  },
  {
   "cell_type": "code",
   "execution_count": 17,
   "metadata": {},
   "outputs": [
    {
     "name": "stdin",
     "output_type": "stream",
     "text": [
      "Enter how much you save per month: 1000\n"
     ]
    }
   ],
   "source": [
    "savings = float(input('Enter how much you save per month:'))"
   ]
  },
  {
   "cell_type": "code",
   "execution_count": 18,
   "metadata": {},
   "outputs": [
    {
     "name": "stdout",
     "output_type": "stream",
     "text": [
      "Welcome Sir\n"
     ]
    }
   ],
   "source": [
    "if savings ==0:\n",
    "    print('Sorry, no savings')\n",
    "elif savings < 500:\n",
    "    print('Well done')\n",
    "elif savings < 1000:\n",
    "    print('Thats a tidy sum')\n",
    "elif savings < 10000:\n",
    "    print('Welcome Sir')\n",
    "else:\n",
    "    print('Thanks you')"
   ]
  },
  {
   "cell_type": "markdown",
   "metadata": {},
   "source": [
    "## Nesting if statements"
   ]
  },
  {
   "cell_type": "code",
   "execution_count": 20,
   "metadata": {},
   "outputs": [
    {
     "name": "stdout",
     "output_type": "stream",
     "text": [
      "It's freezing\n",
      "Put on boots\n",
      "Time for chocolate\n",
      "Bye\n"
     ]
    }
   ],
   "source": [
    "snowing = True\n",
    "temp = -1\n",
    "if temp < 0:\n",
    "    print(\"It's freezing\")\n",
    "    if snowing: \n",
    "        print('Put on boots')\n",
    "    print('Time for chocolate')\n",
    "print('Bye')"
   ]
  },
  {
   "cell_type": "code",
   "execution_count": 21,
   "metadata": {},
   "outputs": [
    {
     "name": "stdout",
     "output_type": "stream",
     "text": [
      "teenager\n"
     ]
    }
   ],
   "source": [
    "age = 15\n",
    "status = None\n",
    "if (age > 12) and age < 20:\n",
    "    status = 'teenager'\n",
    "else:\n",
    "    status = 'not teenager'\n",
    "print(status)"
   ]
  },
  {
   "cell_type": "code",
   "execution_count": 23,
   "metadata": {},
   "outputs": [
    {
     "name": "stdout",
     "output_type": "stream",
     "text": [
      "teenager\n"
     ]
    }
   ],
   "source": [
    "status = ('teenager' if age > 12 and age < 20 else 'not teenager')\n",
    "print(status)"
   ]
  },
  {
   "cell_type": "markdown",
   "metadata": {},
   "source": [
    "---\n",
    "---"
   ]
  },
  {
   "cell_type": "markdown",
   "metadata": {},
   "source": [
    "# Check input is positive or negative  \n",
    "The aim of this exercise is to write a small program to test if an integer is positive or negative.  \n",
    "Your program should:  \n",
    "1. Prompt the user to input a number (use the input() function). You can assume that the input will be some sort of number.\n",
    "2. Convert the string into an integer using the int() function.\n",
    "3. Now check whether the integer is a positive number or a negative number.\n",
    "4. You could also add a test to see if the number is Zero."
   ]
  },
  {
   "cell_type": "markdown",
   "metadata": {},
   "source": [
    "---\n",
    "---"
   ]
  },
  {
   "cell_type": "markdown",
   "metadata": {},
   "source": [
    "# Test if a number is odd or even  \n",
    "The exercises requires you to write a program to take input from the user and determine if the number is odd or even. Again you can assume that the user will enter a valid integer number.  \n",
    "Print out a message to the user to let them know the result. To test if a number is even you can use  \n",
    "(num % 2) == 0  \n",
    "Which will return True if the number is even (note the brackets are optional but make it easier to read)."
   ]
  },
  {
   "cell_type": "markdown",
   "metadata": {},
   "source": [
    "---\n",
    "---"
   ]
  },
  {
   "cell_type": "markdown",
   "metadata": {},
   "source": [
    "# Kilometers to mile converter  \n",
    "In this exercise you should return to the kilometres to miles converter you wrote in the last chapter.\n",
    "We will add several new tests to your program:  \n",
    "1. Modify your program such that it verify that the user has entered a positive distance (i.e. they cannot enter a negative number).\n",
    "2. Now modify your program to verify that the input is a number; if it is not a number then do nothing; otherwise convert the distance to miles.  \n",
    "\n",
    "To check to see if a string contains only digits use the method isnumeric() for example '42'.isnumeric(); which returns True if the string only contains numbers. Note this method only works for positive integers; but this is sufficient for this example."
   ]
  },
  {
   "cell_type": "markdown",
   "metadata": {},
   "source": [
    "---\n",
    "---"
   ]
  },
  {
   "cell_type": "markdown",
   "metadata": {},
   "source": [
    "# Iterations / Loops"
   ]
  },
  {
   "cell_type": "markdown",
   "metadata": {},
   "source": [
    "## The while loop\n",
    "The while loop exists in almost all programming languages and is used to iterative (or repeat) one or more code statements as long as the test condition (expression) is True"
   ]
  },
  {
   "cell_type": "markdown",
   "metadata": {
    "slideshow": {
     "slide_type": "fragment"
    }
   },
   "source": [
    "![While_loop](while_loop.jpg)"
   ]
  },
  {
   "cell_type": "code",
   "execution_count": 81,
   "metadata": {},
   "outputs": [
    {
     "name": "stdout",
     "output_type": "stream",
     "text": [
      "Starting\n",
      "0 1 2 3 4 5 6 7 8 9 \n",
      "Done\n",
      "-------------------------\n"
     ]
    }
   ],
   "source": [
    "count = 0\n",
    "print('Starting')\n",
    "while count < 10:\n",
    "    print(count, '', end='')\n",
    "    count += 1\n",
    "print()\n",
    "print('Done')\n",
    "\n",
    "print('-' * 25)\n",
    "\n"
   ]
  },
  {
   "cell_type": "code",
   "execution_count": 82,
   "metadata": {},
   "outputs": [
    {
     "name": "stdout",
     "output_type": "stream",
     "text": [
      "Starting\n",
      "0 \t:  0\n",
      "1 \t:  4\n",
      "2 \t:  12\n",
      "3 \t:  24\n",
      "4 \t:  40\n",
      "5 \t:  60\n",
      "6 \t:  84\n",
      "7 \t:  112\n",
      "Done\n"
     ]
    }
   ],
   "source": [
    "fx = 0\n",
    "x = 0\n",
    "\n",
    "print('Starting')\n",
    "while fx < 100:\n",
    "    fx = 2 * x * (x + 1)\n",
    "    print(x, '\\t: ', fx)\n",
    "    x += 1\n",
    "\n",
    "print('Done')"
   ]
  },
  {
   "cell_type": "markdown",
   "metadata": {},
   "source": [
    "## For Loops\n",
    "\n",
    "The for loop is used to step a variable through a series of values until a given test is met."
   ]
  },
  {
   "cell_type": "markdown",
   "metadata": {},
   "source": [
    "![for_loops](for_loop.jpg)"
   ]
  },
  {
   "cell_type": "markdown",
   "metadata": {},
   "source": [
    "First we need to define for what values of a certain variable we want the loop to run.  \n",
    "Example:"
   ]
  },
  {
   "cell_type": "code",
   "execution_count": 78,
   "metadata": {},
   "outputs": [],
   "source": [
    "# for i in range(0, 10):\n"
   ]
  },
  {
   "cell_type": "code",
   "execution_count": 79,
   "metadata": {},
   "outputs": [
    {
     "name": "stdout",
     "output_type": "stream",
     "text": [
      "Print out values in a range\n",
      "0  1  2  3  4  5  6  7  8  9  \n",
      "Done\n",
      "-------------------------\n"
     ]
    }
   ],
   "source": [
    "# Loop over a set of values in a range\n",
    "print('Print out values in a range')\n",
    "for i in range(0, 10):\n",
    "    print(i, ' ', end='')\n",
    "print()\n",
    "print('Done')\n",
    "\n",
    "print('-' * 25)\n",
    "\n"
   ]
  },
  {
   "cell_type": "code",
   "execution_count": 80,
   "metadata": {},
   "outputs": [
    {
     "name": "stdout",
     "output_type": "stream",
     "text": [
      "Print out values in a range with an increment of 2\n",
      "0  2  4  6  8  \n",
      "Done\n",
      "-------------------------\n"
     ]
    }
   ],
   "source": [
    "# Now use values in a range but increment by 2\n",
    "print('Print out values in a range with an increment of 2')\n",
    "for i in range(0, 10, 2):\n",
    "    print(i, ' ', end='')\n",
    "print()\n",
    "print('Done')\n",
    "\n",
    "print('-' * 25)"
   ]
  },
  {
   "cell_type": "markdown",
   "metadata": {},
   "source": [
    "## What are the differences between these two pieces of code (using the while loop and the for loop)?"
   ]
  },
  {
   "cell_type": "markdown",
   "metadata": {},
   "source": [
    "- For Loop is more concise"
   ]
  },
  {
   "cell_type": "markdown",
   "metadata": {},
   "source": [
    "- It is clear we are processing a range of values that goes from 0 to 9"
   ]
  },
  {
   "cell_type": "markdown",
   "metadata": {},
   "source": [
    "- We did not have to define the variable that is going to loop first"
   ]
  },
  {
   "cell_type": "markdown",
   "metadata": {},
   "source": [
    "## This is why For loops are more common compared to While loops."
   ]
  },
  {
   "cell_type": "markdown",
   "metadata": {},
   "source": [
    "## Break a Loop"
   ]
  },
  {
   "cell_type": "markdown",
   "metadata": {},
   "source": [
    "The break statement allows a developer to alter the normal cycle of the loop based on some criteria which may not be predictable in advance (for example it may be based on some user input).  \n",
    "The break is tipically guarded by an \"if\" statement so it is applied when needed"
   ]
  },
  {
   "cell_type": "markdown",
   "metadata": {},
   "source": [
    "![break_loop](break_loop.jpg)"
   ]
  },
  {
   "cell_type": "code",
   "execution_count": 87,
   "metadata": {},
   "outputs": [
    {
     "name": "stdout",
     "output_type": "stream",
     "text": [
      "Only print code if all iterations completed\n"
     ]
    },
    {
     "name": "stdin",
     "output_type": "stream",
     "text": [
      "Enter a number to check for:  5\n"
     ]
    },
    {
     "name": "stdout",
     "output_type": "stream",
     "text": [
      "0  1  2  3  4  \n",
      "Done\n",
      "-------------------------\n"
     ]
    }
   ],
   "source": [
    "print('Only print code if all iterations completed')\n",
    "num = int(input('Enter a number to check for: '))\n",
    "for i in range(0, 6):\n",
    "    if i == num:\n",
    "        break\n",
    "    print(i, ' ', end='')\n",
    "print()\n",
    "print('Done')\n",
    "\n",
    "print('-' * 25)\n",
    "\n"
   ]
  },
  {
   "cell_type": "markdown",
   "metadata": {},
   "source": [
    "## Continue the Loop"
   ]
  },
  {
   "cell_type": "markdown",
   "metadata": {},
   "source": [
    "The continue statement also affects the flow of control within the looping constructs for and while. However, it does not terminate the whole loop; rather it only terminates the current iteration round the loop. "
   ]
  },
  {
   "cell_type": "markdown",
   "metadata": {},
   "source": [
    "![continue_loop](continue_loop.jpg)"
   ]
  },
  {
   "cell_type": "code",
   "execution_count": 85,
   "metadata": {},
   "outputs": [
    {
     "name": "stdout",
     "output_type": "stream",
     "text": [
      "0  hey its an even number\n",
      "we love even numbers\n",
      "1  2  hey its an even number\n",
      "we love even numbers\n",
      "3  4  hey its an even number\n",
      "we love even numbers\n",
      "5  6  hey its an even number\n",
      "we love even numbers\n",
      "7  8  hey its an even number\n",
      "we love even numbers\n",
      "9  Done\n"
     ]
    }
   ],
   "source": [
    "for i in range(0, 10):\n",
    "    print(i, ' ', end='')\n",
    "    if i % 2 == 1:\n",
    "        continue\n",
    "    print('hey its an even number')\n",
    "    print('we love even numbers')\n",
    "print('Done')"
   ]
  },
  {
   "cell_type": "markdown",
   "metadata": {},
   "source": [
    "As you can see, we only print out the messages about a number being even when the values are 0, 2, 4, 6 and 8"
   ]
  },
  {
   "cell_type": "markdown",
   "metadata": {},
   "source": [
    "## Else in a Loop"
   ]
  },
  {
   "cell_type": "code",
   "execution_count": 90,
   "metadata": {},
   "outputs": [
    {
     "name": "stdin",
     "output_type": "stream",
     "text": [
      "Enter a number to check for:  7\n"
     ]
    },
    {
     "name": "stdout",
     "output_type": "stream",
     "text": [
      "0  1  2  3  4  5  \n",
      "All iterations successful\n",
      "-------------------------\n"
     ]
    }
   ],
   "source": [
    "\n",
    "num = int(input('Enter a number to check for: '))\n",
    "for i in range(0, 6):\n",
    "    if i == num:\n",
    "        break\n",
    "    print(i, ' ', end='')\n",
    "else:\n",
    "    print()\n",
    "    print('All iterations successful')\n",
    "\n",
    "print('-' * 25)"
   ]
  },
  {
   "cell_type": "markdown",
   "metadata": {},
   "source": [
    "If we run this code and enter the integer value 7 as the number to check for; then the else block executes as the if test within the for statement is never True and thus the loop is never broken, and all values are processed."
   ]
  },
  {
   "cell_type": "markdown",
   "metadata": {},
   "source": [
    "However, if we enter the value 3 as the number to check for; then the if statement will be True when the loop variable 'i' has the value 3; thus only the values 0, 1 and 2 will be processed by the loop. In this situation the else part will not be executed because not all the values in the sequence were processed:"
   ]
  },
  {
   "cell_type": "code",
   "execution_count": 91,
   "metadata": {},
   "outputs": [
    {
     "name": "stdin",
     "output_type": "stream",
     "text": [
      "Enter a number to check for:  3\n"
     ]
    },
    {
     "name": "stdout",
     "output_type": "stream",
     "text": [
      "0  1  2  -------------------------\n"
     ]
    }
   ],
   "source": [
    "\n",
    "num = int(input('Enter a number to check for: '))\n",
    "for i in range(0, 6):\n",
    "    if i == num:\n",
    "        break\n",
    "    print(i, ' ', end='')\n",
    "else:\n",
    "    print()\n",
    "    print('All iterations successful')\n",
    "\n",
    "print('-' * 25)"
   ]
  },
  {
   "cell_type": "markdown",
   "metadata": {},
   "source": [
    "---\n",
    "---"
   ]
  },
  {
   "cell_type": "markdown",
   "metadata": {},
   "source": [
    "## Dice Game"
   ]
  },
  {
   "cell_type": "markdown",
   "metadata": {},
   "source": [
    " In this game we will continue to roll a pair of dice until the user indicates that they do not want to roll again (we use the\n",
    "random module for this which is discussed in the next chapter). When this occurs the while loop will terminate:"
   ]
  },
  {
   "cell_type": "markdown",
   "metadata": {},
   "source": [
    "__Using a random number__  \n",
    "We will start off by looking at how we can generate a random number. Up to this point we have only used the built-in functions that are provided by Python automatically. In actual fact Python comes with very many modules provided by the Python organisation itself, by third party vendors and by the open source (typically free) software community.  \n",
    "The Python random module or library is one that is provided with Python as part of the default environment; but the functions within it are not automatically loaded or made available to the programmer. This is partly because there are so many facilities available with Python that it could become overwhelming; so for the most part Python only makes available by default the most commonly used facilities. Programmers can then explicitly specify when they want to use some facilities from one of the other libraries or modules.  \n",
    "The random module provides implementations of pseudo-random number generators for use in application programs. These random number generators are referred to as pseudo because it is very hard for a computer to truly generate a series of random numbers; instead it does its best to mimic this using an algorithm; which by its very nature will be based on some logic which will mean that it is not\n",
    "impossible to predict the next number—hence it is not truly random. For our purposes this is fine but there are applications, such as security and encryption, where this can be a real problem.  \n",
    "To access the random module in Python you need to import it; this makes the module visible in the rest of the Python file (in our case to our program). "
   ]
  },
  {
   "cell_type": "markdown",
   "metadata": {},
   "source": [
    "---\n",
    "---"
   ]
  },
  {
   "cell_type": "markdown",
   "metadata": {},
   "source": [
    "# Calculate the factorial of a number   \n",
    "Write a program that can find the factorial of any given number. For example, find the factorial of the number 5 (often written as 5!) which is 1 * 2 * 3 * 4 * 5 and equals 120.  \n",
    "The factorial is not defined for negative numbers and the factorial of Zero is 1; that is 0! = 1.  \n",
    "Your program should take as input an integer from the user (you can reuse your\n",
    "logic from the last chapter to verify that they have entered a positive integer value\n",
    "using isnumeric()).\n",
    "You should\n",
    "1. If the number is less than Zero return with an error message.\n",
    "2. Check to see if the number is Zero—if it is then the answer is 1—print this out.\n",
    "3. Otherwise use a loop to generate the result and print it out."
   ]
  },
  {
   "cell_type": "markdown",
   "metadata": {},
   "source": [
    "---\n",
    "---"
   ]
  },
  {
   "cell_type": "markdown",
   "metadata": {},
   "source": [
    "# Print all the prime numbers in a range:  \n",
    "A Prime Number is a positive whole number, greater than 1, that has no other divisors except the number 1 and the number itself.\n",
    "That is, it can only be divided by itself and the number 1, for example the numbers 2, 3, 5 and 7 are prime numbers as they cannot be divided by any other whole number. However, the numbers 4 and 6 are not because they can both be divided by the number 2 in addition the number 6 can also be divided by the number 3.  \n",
    "You should write a program to calculate prime number starting from 1 up to the value input by the user. If the user inputs a number below 2, print an error message.   \n",
    "For any number greater than 2 loop for each integer from 2 to that number and determine if it can be divided by another number (you will probably need two for loops for this; one nested inside the other).  \n",
    "For each number that cannot be divided by any other number (that is its a prime number) print it out."
   ]
  },
  {
   "cell_type": "markdown",
   "metadata": {},
   "source": [
    "---\n",
    "---"
   ]
  },
  {
   "cell_type": "markdown",
   "metadata": {},
   "source": [
    "# Number Guessing Game"
   ]
  },
  {
   "cell_type": "markdown",
   "metadata": {},
   "source": [
    "Essentially the program logic is  \n",
    "• The program randomly selects a number between 1 and 10.  \n",
    "• It will then ask the player to enter their guess.  \n",
    "• It will then check to see if that number is the same as the one the computer randomly generated; if it is then the player has won.  \n",
    "• If the player’s guess is not the same, then it will check to see if the number is higher or lower than the guess and tell the player.  \n",
    "• The player will have 4 goes to guess the number correctly; if they don’t guess the number within this number of attempts, then they will be informed that they have lost the game and will be told what the actual number was.  "
   ]
  },
  {
   "cell_type": "markdown",
   "metadata": {},
   "source": [
    "## Using if loop"
   ]
  },
  {
   "cell_type": "code",
   "execution_count": 99,
   "metadata": {},
   "outputs": [
    {
     "name": "stdout",
     "output_type": "stream",
     "text": [
      "Welcome to the number guessing game\n"
     ]
    },
    {
     "name": "stdin",
     "output_type": "stream",
     "text": [
      "Enter your guessed number:  5\n"
     ]
    },
    {
     "name": "stdout",
     "output_type": "stream",
     "text": [
      "Your guess was too high\n"
     ]
    },
    {
     "name": "stdin",
     "output_type": "stream",
     "text": [
      "Enter your guessed number:  4\n"
     ]
    },
    {
     "name": "stdout",
     "output_type": "stream",
     "text": [
      "Your guess was too high\n"
     ]
    },
    {
     "name": "stdin",
     "output_type": "stream",
     "text": [
      "Enter your guessed number:  3\n"
     ]
    },
    {
     "name": "stdout",
     "output_type": "stream",
     "text": [
      "Your guess was too high\n",
      "The number was 2\n"
     ]
    }
   ],
   "source": [
    "print('Welcome to the number guessing game')\n",
    "import random\n",
    "MIN = 0\n",
    "MAX = 10\n",
    "number = random.randint(MIN, MAX)\n",
    "\n",
    "for i in range (1,4):\n",
    "    if i > 3:\n",
    "        break\n",
    "    my_guess=int(input('Enter your guessed number: '))\n",
    "    if number == my_guess:\n",
    "        print('Well done!')\n",
    "    elif number > my_guess:\n",
    "        print('Your guess was too low')\n",
    "        i += 1\n",
    "    else:\n",
    "        print('Your guess was too high')\n",
    "        i += 1\n",
    "print('The number was', number)"
   ]
  },
  {
   "cell_type": "markdown",
   "metadata": {},
   "source": [
    "## Using while loop"
   ]
  },
  {
   "cell_type": "code",
   "execution_count": 10,
   "metadata": {},
   "outputs": [
    {
     "name": "stdout",
     "output_type": "stream",
     "text": [
      "Welcome to the number guess game\n"
     ]
    },
    {
     "name": "stdin",
     "output_type": "stream",
     "text": [
      "Please guess a number between 1 and 10:  4\n"
     ]
    },
    {
     "name": "stdout",
     "output_type": "stream",
     "text": [
      "Sorry wrong number\n",
      "Your guess was lower than the number\n"
     ]
    },
    {
     "name": "stdin",
     "output_type": "stream",
     "text": [
      "Please guess again:  5\n"
     ]
    },
    {
     "name": "stdout",
     "output_type": "stream",
     "text": [
      "Sorry wrong number\n",
      "Your guess was lower than the number\n"
     ]
    },
    {
     "name": "stdin",
     "output_type": "stream",
     "text": [
      "Please guess again:  6\n"
     ]
    },
    {
     "name": "stdout",
     "output_type": "stream",
     "text": [
      "Sorry wrong number\n",
      "Sorry - you loose\n",
      "The number you needed to guess was 10\n",
      "Game Over\n"
     ]
    }
   ],
   "source": [
    "import random\n",
    "\n",
    "print('Welcome to the number guess game')\n",
    "\n",
    "# Initialise the number to be guessed\n",
    "number_to_guess = random.randint(1,10)\n",
    "\n",
    "# Initialise the number of tries the player has made\n",
    "count_number_of_tries = 1\n",
    "\n",
    "# Obtain their initial guess\n",
    "guess = int(input('Please guess a number between 1 and 10: '))\n",
    "while number_to_guess != guess:\n",
    "    print('Sorry wrong number')\n",
    "\n",
    "    # Check to see they have not exceeded the maximum\n",
    "    # number of attempts if so break out of loop otherwise\n",
    "    # give the user come feedback\n",
    "    if count_number_of_tries == 3:\n",
    "        break\n",
    "    elif guess < number_to_guess:\n",
    "        print('Your guess was lower than the number')\n",
    "    else:\n",
    "        print('Your guess was higher than the number')\n",
    "\n",
    "    # Obtain their next guess and increment number of attempts\n",
    "    guess = int(input('Please guess again: '))\n",
    "    count_number_of_tries += 1\n",
    "\n",
    "# Check to see if they did guess the correct number\n",
    "if number_to_guess == guess:\n",
    "    print('Well done you won!')\n",
    "    print('You took', count_number_of_tries , 'goes to complete the game')\n",
    "else:\n",
    "    print(\"Sorry - you loose\")\n",
    "    print('The number you needed to guess was',\n",
    "          number_to_guess)\n",
    "\n",
    "print('Game Over')"
   ]
  },
  {
   "cell_type": "markdown",
   "metadata": {},
   "source": [
    "# Exercises"
   ]
  },
  {
   "cell_type": "markdown",
   "metadata": {},
   "source": [
    "__Ex1:__ Write a program that reads an integer from the user. Then your program should\n",
    "display a message indicating whether the integer is even or odd"
   ]
  },
  {
   "cell_type": "markdown",
   "metadata": {},
   "source": [
    "__Ex2:__ In this exercise you will create a program that reads a letter of the alphabet from the\n",
    "user. If the user enters a, e, i, o or u then your program should display a message\n",
    "indicating that the entered letter is a vowel. If the user enters y then your program\n",
    "should display a message indicating that sometimes y is a vowel, and sometimes y is\n",
    "a consonant. Otherwise your program should display a message indicating that the\n",
    "letter is a consonant."
   ]
  },
  {
   "cell_type": "markdown",
   "metadata": {},
   "source": [
    "__Ex3:__ Most years have 365 days. However, the time required for the Earth to orbit the Sun\n",
    "is actually slightly more than that. As a result, an extra day, February 29, is included\n",
    "in some years to correct for this difference. Such years are referred to as leap years.  \n",
    "The rules for determining whether or not a year is a leap year follow:  \n",
    "• Any year that is divisible by 400 is a leap year.  \n",
    "• Of the remaining years, any year that is divisible by 100 is not a leap year.  \n",
    "• Of the remaining years, any year that is divisible by 4 is a leap year.  \n",
    "• All other years are not leap years.  \n",
    "Write a program that reads a year from the user and displays a message indicating\n",
    "whether or not it is a leap year."
   ]
  },
  {
   "cell_type": "markdown",
   "metadata": {},
   "source": [
    "__Ex4:__ In a particular jurisdiction, older license plates consist of three uppercase letters followed by three numbers. When all of the license plates following that pattern had been used, the format was changed to four numbers followed by three uppercase\n",
    "letters.  \n",
    "Write a program that begins by reading a string of characters from the user. Then your program should display a message indicating whether the characters are valid for an older style license plate or a newer style license plate. Your program should display an appropriate message if the string entered by the user is not valid for either style of license plate."
   ]
  },
  {
   "cell_type": "markdown",
   "metadata": {},
   "source": [
    "__Ex5:__ February 4, 2013 was the last day that pennies were distributed by the Royal Canadian Mint. Now that pennies have been phased out retailers must adjust totals so that they are multiples of 5 cents when they are paid for with cash (credit card and debit card transactions continue to be charged to the penny). While retailers have some freedom in how they do this, most choose to round to the closest nickel.  \n",
    "Write a program that reads prices from the user until a blank line is entered. Display the total cost of all the entered items on one line, followed by the amount due if the customer pays with cash on a second line. The amount due for a cash payment should be rounded to the nearest nickel. One way to compute the cash payment amount is to begin by determining how many pennies would be needed to pay the total. Then compute the remainder when this number of pennies is divided by 5. Finally, adjust the total down if the remainder is less than 2.5. Otherwise adjust the total up."
   ]
  },
  {
   "cell_type": "markdown",
   "metadata": {},
   "source": [
    "__Ex6:__ Write a program that computes the perimeter of a polygon. Begin by reading the x and y values for the first point on the perimeter of the polygon from the user. Then continue reading pairs of x and y values until the user enters a blank line for the x-coordinate. Each time you read an additional coordinate you should compute the distance to the previous point and add it to the perimeter. When a blank line is entered for the x-coordinate your program should add the distance from the last point back\n",
    "to the first point to the perimeter. Then it should display the total perimeter. Sample input and output is shown below, with user input shown in bold:  \n",
    "\n",
    "_Enter the x part of the coordinate: 0  \n",
    "Enter the y part of the coordinate: 0  \n",
    "Enter the x part of the coordinate: (blank to quit): 1  \n",
    "Enter the y part of the coordinate: 0  \n",
    "Enter the x part of the coordinate: (blank to quit): 0  \n",
    "Enter the y part of the coordinate: 1  \n",
    "Enter the x part of the coordinate: (blank to quit):  \n",
    "The perimeter of that polygon is 3.414213562373095_"
   ]
  },
  {
   "cell_type": "markdown",
   "metadata": {},
   "source": [
    "__Ex7:__ A particular zoo determines the price of admission based on the age of the guest. Guests 2 years of age and less are admitted without charge. Children between 3 and 12 years of age cost 14.00 dollars. Seniors aged 65 years and over cost 18.00 dollars. Admission for all other guests is 23.00 dollars.  \n",
    "Create a program that begins by reading the ages of all of the guests in a group from the user, with one age entered on each line. The user will enter a blank line to indicate that there are no more guests in the group. Then your program should display\n",
    "the admission cost for the group with an appropriate message. The cost should be displayed using two decimal places."
   ]
  },
  {
   "cell_type": "markdown",
   "metadata": {},
   "source": [
    "__Ex8:__ A parity bit is a simple mechanism for detecting errors in data transmitted over an unreliable connection such as a telephone line. The basic idea is that an additional bit is transmitted after each group of 8 bits so that a single bit error in the transmission can be detected.  \n",
    "Parity bits can be computed for either even parity or odd parity. If even parity is selected then the parity bit that is transmitted is chosen so that the total number of one bits transmitted (8 bits of data plus the parity bit) is even. When odd parity is selected the parity bit is chosen so that the total number of one bits transmitted is odd.  \n",
    "Write a program that computes the parity bit for groups of 8 bits entered by the user using even parity. Your program should read strings containing 8 bits until the user enters a blank line. After each string is entered by the user your program should display a clear message indicating whether the parity bit should be 0 or 1. Display an appropriate error message if the user enters something other than 8 bits."
   ]
  },
  {
   "cell_type": "code",
   "execution_count": null,
   "metadata": {},
   "outputs": [],
   "source": []
  }
 ],
 "metadata": {
  "kernelspec": {
   "display_name": "Python Course",
   "language": "python",
   "name": "py_course"
  },
  "language_info": {
   "codemirror_mode": {
    "name": "ipython",
    "version": 3
   },
   "file_extension": ".py",
   "mimetype": "text/x-python",
   "name": "python",
   "nbconvert_exporter": "python",
   "pygments_lexer": "ipython3",
   "version": "3.8.5"
  }
 },
 "nbformat": 4,
 "nbformat_minor": 4
}
