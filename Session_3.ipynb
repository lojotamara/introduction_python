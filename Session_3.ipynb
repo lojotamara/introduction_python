{
 "cells": [
  {
   "cell_type": "markdown",
   "metadata": {},
   "source": [
    "\n",
    "![SVG from www](https://upload.wikimedia.org/wikipedia/commons/thumb/a/a2/Kühne_Logistics_University_logo_2019.svg/100px-Kühne_Logistics_University_logo_2019.svg.png)  \n",
    "# Introduction to Python  \n",
    "## The basics of python at Kuehne Logistics University  \n",
    "## Sep-2020  "
   ]
  },
  {
   "cell_type": "markdown",
   "metadata": {},
   "source": [
    "# Session 3:"
   ]
  },
  {
   "cell_type": "markdown",
   "metadata": {},
   "source": [
    "Logical operations and if statements. Iterations using the “while Loop” and “for Loop”-.\n",
    "Setting up a game and running a “guessing game”. (Chapters 6, 7 and 8)."
   ]
  },
  {
   "cell_type": "markdown",
   "metadata": {},
   "source": [
    "## Comparison operators: return Boolean values"
   ]
  },
  {
   "cell_type": "code",
   "execution_count": 1,
   "metadata": {},
   "outputs": [
    {
     "data": {
      "text/plain": [
       "True"
      ]
     },
     "execution_count": 1,
     "metadata": {},
     "output_type": "execute_result"
    }
   ],
   "source": [
    "3 ==3\n"
   ]
  },
  {
   "cell_type": "code",
   "execution_count": 2,
   "metadata": {},
   "outputs": [
    {
     "data": {
      "text/plain": [
       "True"
      ]
     },
     "execution_count": 2,
     "metadata": {},
     "output_type": "execute_result"
    }
   ],
   "source": [
    "2 != 3\n"
   ]
  },
  {
   "cell_type": "code",
   "execution_count": 3,
   "metadata": {},
   "outputs": [
    {
     "data": {
      "text/plain": [
       "False"
      ]
     },
     "execution_count": 3,
     "metadata": {},
     "output_type": "execute_result"
    }
   ],
   "source": [
    "4 == 2"
   ]
  },
  {
   "cell_type": "markdown",
   "metadata": {},
   "source": [
    "# Logical operators"
   ]
  },
  {
   "cell_type": "markdown",
   "metadata": {},
   "source": [
    "| Operator | Description | Example|\n",
    "| --- | --- | --- |\n",
    "| and | Returns True if both are right | (3 < 4) and (5 < 4) |\n",
    "| or | Returns True if either is correct | (3 < 4) or (3 > 5) |\n",
    "| not | Returns true if the value being tested is False | not 3 < 2 |"
   ]
  },
  {
   "cell_type": "markdown",
   "metadata": {},
   "source": [
    "## The if statement"
   ]
  },
  {
   "cell_type": "code",
   "execution_count": 6,
   "metadata": {},
   "outputs": [
    {
     "name": "stdin",
     "output_type": "stream",
     "text": [
      "Enter a number:  -3\n"
     ]
    }
   ],
   "source": [
    "num = int(input('Enter a number: '))\n"
   ]
  },
  {
   "cell_type": "code",
   "execution_count": 7,
   "metadata": {},
   "outputs": [
    {
     "name": "stdout",
     "output_type": "stream",
     "text": [
      "-3 is negative\n"
     ]
    }
   ],
   "source": [
    "if num < 0:\n",
    "    print(num, 'is negative')"
   ]
  },
  {
   "cell_type": "code",
   "execution_count": 12,
   "metadata": {},
   "outputs": [
    {
     "name": "stdin",
     "output_type": "stream",
     "text": [
      "Enter another number:  13\n"
     ]
    }
   ],
   "source": [
    "num = int(input('Enter another number: '))"
   ]
  },
  {
   "cell_type": "code",
   "execution_count": 14,
   "metadata": {},
   "outputs": [
    {
     "name": "stdout",
     "output_type": "stream",
     "text": [
      "13 is positive\n",
      "13 squared is 169\n",
      "Bye\n"
     ]
    }
   ],
   "source": [
    "if num > 0:\n",
    "    print(num, 'is positive')\n",
    "    print(num, 'squared is', num**2)\n",
    "print('Bye')"
   ]
  },
  {
   "cell_type": "markdown",
   "metadata": {},
   "source": [
    "## Else"
   ]
  },
  {
   "cell_type": "code",
   "execution_count": 15,
   "metadata": {},
   "outputs": [
    {
     "name": "stdin",
     "output_type": "stream",
     "text": [
      "Enter yet another number:  3\n"
     ]
    }
   ],
   "source": [
    "num = int(input('Enter yet another number: '))"
   ]
  },
  {
   "cell_type": "code",
   "execution_count": 16,
   "metadata": {},
   "outputs": [
    {
     "name": "stdout",
     "output_type": "stream",
     "text": [
      "3 is not negative\n"
     ]
    }
   ],
   "source": [
    "if num < 0:\n",
    "    print (num, 'is negative')\n",
    "else:\n",
    "    print(num, 'is not negative')"
   ]
  },
  {
   "cell_type": "markdown",
   "metadata": {},
   "source": [
    "## Elif"
   ]
  },
  {
   "cell_type": "code",
   "execution_count": 17,
   "metadata": {},
   "outputs": [
    {
     "name": "stdin",
     "output_type": "stream",
     "text": [
      "Enter how much you save per month: 1000\n"
     ]
    }
   ],
   "source": [
    "savings = float(input('Enter how much you save per month:'))"
   ]
  },
  {
   "cell_type": "code",
   "execution_count": 18,
   "metadata": {},
   "outputs": [
    {
     "name": "stdout",
     "output_type": "stream",
     "text": [
      "Welcome Sir\n"
     ]
    }
   ],
   "source": [
    "if savings ==0:\n",
    "    print('Sorry, no savings')\n",
    "elif savings < 500:\n",
    "    print('Well done')\n",
    "elif savings < 1000:\n",
    "    print('Thats a tidy sum')\n",
    "elif savings < 10000:\n",
    "    print('Welcome Sir')\n",
    "else:\n",
    "    print('Thanks you')"
   ]
  },
  {
   "cell_type": "markdown",
   "metadata": {},
   "source": [
    "## Nesting if statements"
   ]
  },
  {
   "cell_type": "code",
   "execution_count": 20,
   "metadata": {},
   "outputs": [
    {
     "name": "stdout",
     "output_type": "stream",
     "text": [
      "It's freezing\n",
      "Put on boots\n",
      "Time for chocolate\n",
      "Bye\n"
     ]
    }
   ],
   "source": [
    "snowing = True\n",
    "temp = -1\n",
    "if temp < 0:\n",
    "    print(\"It's freezing\")\n",
    "    if snowing: \n",
    "        print('Put on boots')\n",
    "    print('Time for chocolate')\n",
    "print('Bye')"
   ]
  },
  {
   "cell_type": "code",
   "execution_count": 21,
   "metadata": {},
   "outputs": [
    {
     "name": "stdout",
     "output_type": "stream",
     "text": [
      "teenager\n"
     ]
    }
   ],
   "source": [
    "age = 15\n",
    "status = None\n",
    "if (age > 12) and age < 20:\n",
    "    status = 'teenager'\n",
    "else:\n",
    "    status = 'not teenager'\n",
    "print(status)"
   ]
  },
  {
   "cell_type": "code",
   "execution_count": 23,
   "metadata": {},
   "outputs": [
    {
     "name": "stdout",
     "output_type": "stream",
     "text": [
      "teenager\n"
     ]
    }
   ],
   "source": [
    "status = ('teenager' if age > 12 and age < 20 else 'not teenager')\n",
    "print(status)"
   ]
  },
  {
   "cell_type": "markdown",
   "metadata": {},
   "source": [
    "# Iterations / Loops"
   ]
  },
  {
   "cell_type": "markdown",
   "metadata": {},
   "source": [
    "## The while loop\n",
    "The while loop exists in almost all programming languages and is used to iterative (or repeat) one or more code statements as long as the test condition (expression) is True"
   ]
  },
  {
   "cell_type": "code",
   "execution_count": 66,
   "metadata": {
    "slideshow": {
     "slide_type": "fragment"
    }
   },
   "outputs": [
    {
     "data": {
      "image/svg+xml": [
       "<?xml version=\"1.0\" encoding=\"UTF-8\" standalone=\"no\"?>\n",
       "<!DOCTYPE svg PUBLIC \"-//W3C//DTD SVG 1.1//EN\"\n",
       " \"http://www.w3.org/Graphics/SVG/1.1/DTD/svg11.dtd\">\n",
       "<!-- Generated by graphviz version 2.40.1 (20161225.0304)\n",
       " -->\n",
       "<!-- Title: %3 Pages: 1 -->\n",
       "<svg width=\"258pt\" height=\"218pt\"\n",
       " viewBox=\"0.00 0.00 258.38 218.00\" xmlns=\"http://www.w3.org/2000/svg\" xmlns:xlink=\"http://www.w3.org/1999/xlink\">\n",
       "<g id=\"graph0\" class=\"graph\" transform=\"scale(1 1) rotate(0) translate(4 214)\">\n",
       "<title>%3</title>\n",
       "<polygon fill=\"#ffffff\" stroke=\"transparent\" points=\"-4,4 -4,-214 254.3768,-214 254.3768,4 -4,4\"/>\n",
       "<!-- S -->\n",
       "<g id=\"node1\" class=\"node\">\n",
       "<title>S</title>\n",
       "<ellipse fill=\"none\" stroke=\"#000000\" cx=\"123.3768\" cy=\"-192\" rx=\"27.0966\" ry=\"18\"/>\n",
       "<text text-anchor=\"middle\" x=\"123.3768\" y=\"-188.3\" font-family=\"Times,serif\" font-size=\"14.00\" fill=\"#000000\">Start</text>\n",
       "</g>\n",
       "<!-- C -->\n",
       "<g id=\"node2\" class=\"node\">\n",
       "<title>C</title>\n",
       "<polygon fill=\"none\" stroke=\"#000000\" points=\"123.3768,-123 60.8714,-105 123.3768,-87 185.8822,-105 123.3768,-123\"/>\n",
       "<text text-anchor=\"middle\" x=\"123.3768\" y=\"-101.3\" font-family=\"Times,serif\" font-size=\"14.00\" fill=\"#000000\">condition</text>\n",
       "</g>\n",
       "<!-- S&#45;&gt;C -->\n",
       "<g id=\"edge3\" class=\"edge\">\n",
       "<title>S&#45;&gt;C</title>\n",
       "<path fill=\"none\" stroke=\"#000000\" d=\"M123.3768,-173.9735C123.3768,-162.1918 123.3768,-146.5607 123.3768,-133.1581\"/>\n",
       "<polygon fill=\"#000000\" stroke=\"#000000\" points=\"126.8769,-133.0033 123.3768,-123.0034 119.8769,-133.0034 126.8769,-133.0033\"/>\n",
       "<text text-anchor=\"middle\" x=\"167.8768\" y=\"-144.8\" font-family=\"Times,serif\" font-size=\"14.00\" fill=\"#000000\">While condition</text>\n",
       "</g>\n",
       "<!-- P -->\n",
       "<g id=\"node3\" class=\"node\">\n",
       "<title>P</title>\n",
       "<polygon fill=\"none\" stroke=\"#000000\" points=\"70.8768,-36 13.8768,-36 13.8768,0 70.8768,0 70.8768,-36\"/>\n",
       "<text text-anchor=\"middle\" x=\"42.3768\" y=\"-14.3\" font-family=\"Times,serif\" font-size=\"14.00\" fill=\"#000000\">process</text>\n",
       "</g>\n",
       "<!-- C&#45;&gt;P -->\n",
       "<g id=\"edge1\" class=\"edge\">\n",
       "<title>C&#45;&gt;P</title>\n",
       "<path fill=\"none\" stroke=\"#000000\" d=\"M83.7018,-98.3265C52.6396,-92.1979 13.1145,-82.0878 3.3768,-69 -2.889,-60.5786 .7326,-51.4516 7.8151,-43.2778\"/>\n",
       "<polygon fill=\"#000000\" stroke=\"#000000\" points=\"10.4448,-45.6001 15.108,-36.0867 5.5299,-40.6157 10.4448,-45.6001\"/>\n",
       "<text text-anchor=\"middle\" x=\"56.3768\" y=\"-57.8\" font-family=\"Times,serif\" font-size=\"14.00\" fill=\"#000000\">If condition is True</text>\n",
       "</g>\n",
       "<!-- E -->\n",
       "<g id=\"node4\" class=\"node\">\n",
       "<title>E</title>\n",
       "<ellipse fill=\"none\" stroke=\"#000000\" cx=\"156.3768\" cy=\"-18\" rx=\"27\" ry=\"18\"/>\n",
       "<text text-anchor=\"middle\" x=\"156.3768\" y=\"-14.3\" font-family=\"Times,serif\" font-size=\"14.00\" fill=\"#000000\">Stop</text>\n",
       "</g>\n",
       "<!-- C&#45;&gt;E -->\n",
       "<g id=\"edge4\" class=\"edge\">\n",
       "<title>C&#45;&gt;E</title>\n",
       "<path fill=\"none\" stroke=\"#000000\" d=\"M129.5839,-88.636C134.2562,-76.3181 140.7618,-59.1668 146.1925,-44.8496\"/>\n",
       "<polygon fill=\"#000000\" stroke=\"#000000\" points=\"149.4706,-46.0761 149.7447,-35.4848 142.9256,-43.5934 149.4706,-46.0761\"/>\n",
       "<text text-anchor=\"middle\" x=\"195.8768\" y=\"-57.8\" font-family=\"Times,serif\" font-size=\"14.00\" fill=\"#000000\">If condition is False</text>\n",
       "</g>\n",
       "<!-- P&#45;&gt;C -->\n",
       "<g id=\"edge2\" class=\"edge\">\n",
       "<title>P&#45;&gt;C</title>\n",
       "<path fill=\"none\" stroke=\"#000000\" d=\"M70.9905,-27.3369C84.4182,-33.068 99.5841,-41.711 109.3768,-54 114.6876,-60.6646 117.9877,-69.2002 120.0371,-77.3742\"/>\n",
       "<polygon fill=\"#000000\" stroke=\"#000000\" points=\"116.6405,-78.2396 122.0212,-87.3664 123.5065,-76.8762 116.6405,-78.2396\"/>\n",
       "</g>\n",
       "</g>\n",
       "</svg>\n"
      ],
      "text/plain": [
       "<graphviz.dot.Digraph at 0x7f3c5c2d24c0>"
      ]
     },
     "execution_count": 66,
     "metadata": {},
     "output_type": "execute_result"
    }
   ],
   "source": [
    "from graphviz import Digraph\n",
    "from graphviz import Graph\n",
    "import os\n",
    "from pathlib import Path\n",
    "import re\n",
    "import copy\n",
    "#import dill\n",
    "\n",
    "dot1 = Digraph(comment='Innovation drivers')\n",
    "\n",
    "dot1.node('S', 'Start')\n",
    "dot1.node('C', 'condition', shape='diamond')\n",
    "dot1.node('P', 'process', shape='box')\n",
    "dot1.node('E', 'Stop')\n",
    "\n",
    "#C[shape=box]\n",
    "\n",
    "dot1.edge('C', 'P', 'If condition is True')\n",
    "dot1.edge('P', 'C')\n",
    "dot1.edge('S', 'C', label= 'While condition')\n",
    "dot1.edge('C', 'E', label='If condition is False')\n",
    "\n",
    "#dot.edge('B', 'L', constraint='false')\n",
    "dot1"
   ]
  },
  {
   "cell_type": "code",
   "execution_count": 81,
   "metadata": {},
   "outputs": [
    {
     "name": "stdout",
     "output_type": "stream",
     "text": [
      "Starting\n",
      "0 1 2 3 4 5 6 7 8 9 \n",
      "Done\n",
      "-------------------------\n"
     ]
    }
   ],
   "source": [
    "count = 0\n",
    "print('Starting')\n",
    "while count < 10:\n",
    "    print(count, '', end='')\n",
    "    count += 1\n",
    "print()\n",
    "print('Done')\n",
    "\n",
    "print('-' * 25)\n",
    "\n"
   ]
  },
  {
   "cell_type": "code",
   "execution_count": 82,
   "metadata": {},
   "outputs": [
    {
     "name": "stdout",
     "output_type": "stream",
     "text": [
      "Starting\n",
      "0 \t:  0\n",
      "1 \t:  4\n",
      "2 \t:  12\n",
      "3 \t:  24\n",
      "4 \t:  40\n",
      "5 \t:  60\n",
      "6 \t:  84\n",
      "7 \t:  112\n",
      "Done\n"
     ]
    }
   ],
   "source": [
    "fx = 0\n",
    "x = 0\n",
    "\n",
    "print('Starting')\n",
    "while fx < 100:\n",
    "    fx = 2 * x * (x + 1)\n",
    "    print(x, '\\t: ', fx)\n",
    "    x += 1\n",
    "\n",
    "print('Done')"
   ]
  },
  {
   "cell_type": "markdown",
   "metadata": {},
   "source": [
    "## For Loops\n",
    "\n",
    "The for loop is used to step a variable through a series of values until a given test is met."
   ]
  },
  {
   "cell_type": "code",
   "execution_count": 72,
   "metadata": {},
   "outputs": [
    {
     "data": {
      "image/svg+xml": [
       "<?xml version=\"1.0\" encoding=\"UTF-8\" standalone=\"no\"?>\n",
       "<!DOCTYPE svg PUBLIC \"-//W3C//DTD SVG 1.1//EN\"\n",
       " \"http://www.w3.org/Graphics/SVG/1.1/DTD/svg11.dtd\">\n",
       "<!-- Generated by graphviz version 2.40.1 (20161225.0304)\n",
       " -->\n",
       "<!-- Title: %3 Pages: 1 -->\n",
       "<svg width=\"187pt\" height=\"218pt\"\n",
       " viewBox=\"0.00 0.00 186.50 218.00\" xmlns=\"http://www.w3.org/2000/svg\" xmlns:xlink=\"http://www.w3.org/1999/xlink\">\n",
       "<g id=\"graph0\" class=\"graph\" transform=\"scale(1 1) rotate(0) translate(4 214)\">\n",
       "<title>%3</title>\n",
       "<polygon fill=\"#ffffff\" stroke=\"transparent\" points=\"-4,4 -4,-214 182.5027,-214 182.5027,4 -4,4\"/>\n",
       "<!-- S -->\n",
       "<g id=\"node1\" class=\"node\">\n",
       "<title>S</title>\n",
       "<ellipse fill=\"none\" stroke=\"#000000\" cx=\"62.5027\" cy=\"-192\" rx=\"27.0966\" ry=\"18\"/>\n",
       "<text text-anchor=\"middle\" x=\"62.5027\" y=\"-188.3\" font-family=\"Times,serif\" font-size=\"14.00\" fill=\"#000000\">Start</text>\n",
       "</g>\n",
       "<!-- C -->\n",
       "<g id=\"node2\" class=\"node\">\n",
       "<title>C</title>\n",
       "<polygon fill=\"none\" stroke=\"#000000\" points=\"62.5027,-123 -.0027,-105 62.5027,-87 125.0081,-105 62.5027,-123\"/>\n",
       "<text text-anchor=\"middle\" x=\"62.5027\" y=\"-101.3\" font-family=\"Times,serif\" font-size=\"14.00\" fill=\"#000000\">Last item</text>\n",
       "</g>\n",
       "<!-- S&#45;&gt;C -->\n",
       "<g id=\"edge3\" class=\"edge\">\n",
       "<title>S&#45;&gt;C</title>\n",
       "<path fill=\"none\" stroke=\"#000000\" d=\"M62.5027,-173.9735C62.5027,-162.1918 62.5027,-146.5607 62.5027,-133.1581\"/>\n",
       "<polygon fill=\"#000000\" stroke=\"#000000\" points=\"66.0028,-133.0033 62.5027,-123.0034 59.0028,-133.0034 66.0028,-133.0033\"/>\n",
       "<text text-anchor=\"middle\" x=\"120.5027\" y=\"-144.8\" font-family=\"Times,serif\" font-size=\"14.00\" fill=\"#000000\">For each item in seq.</text>\n",
       "</g>\n",
       "<!-- P -->\n",
       "<g id=\"node3\" class=\"node\">\n",
       "<title>P</title>\n",
       "<polygon fill=\"none\" stroke=\"#000000\" points=\"59.0027,-36 2.0027,-36 2.0027,0 59.0027,0 59.0027,-36\"/>\n",
       "<text text-anchor=\"middle\" x=\"30.5027\" y=\"-14.3\" font-family=\"Times,serif\" font-size=\"14.00\" fill=\"#000000\">process</text>\n",
       "</g>\n",
       "<!-- C&#45;&gt;P -->\n",
       "<g id=\"edge1\" class=\"edge\">\n",
       "<title>C&#45;&gt;P</title>\n",
       "<path fill=\"none\" stroke=\"#000000\" d=\"M46.5897,-91.158C40.6989,-85.0273 34.6844,-77.3201 31.5027,-69 28.7937,-61.9161 27.7853,-53.8642 27.6428,-46.2849\"/>\n",
       "<polygon fill=\"#000000\" stroke=\"#000000\" points=\"31.1485,-46.1292 27.931,-36.0347 24.1513,-45.9324 31.1485,-46.1292\"/>\n",
       "<text text-anchor=\"middle\" x=\"40.0027\" y=\"-57.8\" font-family=\"Times,serif\" font-size=\"14.00\" fill=\"#000000\">No</text>\n",
       "</g>\n",
       "<!-- E -->\n",
       "<g id=\"node4\" class=\"node\">\n",
       "<title>E</title>\n",
       "<ellipse fill=\"none\" stroke=\"#000000\" cx=\"104.5027\" cy=\"-18\" rx=\"27\" ry=\"18\"/>\n",
       "<text text-anchor=\"middle\" x=\"104.5027\" y=\"-14.3\" font-family=\"Times,serif\" font-size=\"14.00\" fill=\"#000000\">Stop</text>\n",
       "</g>\n",
       "<!-- C&#45;&gt;E -->\n",
       "<g id=\"edge4\" class=\"edge\">\n",
       "<title>C&#45;&gt;E</title>\n",
       "<path fill=\"none\" stroke=\"#000000\" d=\"M70.2061,-89.0429C76.2283,-76.5683 84.7288,-58.9602 91.7602,-44.3951\"/>\n",
       "<polygon fill=\"#000000\" stroke=\"#000000\" points=\"94.9323,-45.8749 96.1279,-35.3478 88.6284,-42.8317 94.9323,-45.8749\"/>\n",
       "<text text-anchor=\"middle\" x=\"96.5027\" y=\"-57.8\" font-family=\"Times,serif\" font-size=\"14.00\" fill=\"#000000\">Yes</text>\n",
       "</g>\n",
       "<!-- P&#45;&gt;C -->\n",
       "<g id=\"edge2\" class=\"edge\">\n",
       "<title>P&#45;&gt;C</title>\n",
       "<path fill=\"none\" stroke=\"#000000\" d=\"M40.3684,-36.0021C43.2319,-41.6587 46.2033,-47.9966 48.5027,-54 51.4255,-61.6311 54.0082,-70.1203 56.1339,-77.9487\"/>\n",
       "<polygon fill=\"#000000\" stroke=\"#000000\" points=\"52.7702,-78.9214 58.6554,-87.7313 59.5486,-77.1742 52.7702,-78.9214\"/>\n",
       "</g>\n",
       "</g>\n",
       "</svg>\n"
      ],
      "text/plain": [
       "<graphviz.dot.Digraph at 0x7f3c5c27b880>"
      ]
     },
     "execution_count": 72,
     "metadata": {},
     "output_type": "execute_result"
    }
   ],
   "source": [
    "dot2 = Digraph(comment='For Loops')\n",
    "\n",
    "dot2.node('S', 'Start')\n",
    "dot2.node('C', 'Last item', shape='diamond')\n",
    "dot2.node('P', 'process', shape='box')\n",
    "dot2.node('E', 'Stop')\n",
    "\n",
    "#C[shape=box]\n",
    "\n",
    "dot2.edge('C', 'P', 'No')\n",
    "dot2.edge('P', 'C')\n",
    "dot2.edge('S', 'C', label= 'For each item in seq.')\n",
    "dot2.edge('C', 'E', label='Yes')\n",
    "\n",
    "#dot.edge('B', 'L', constraint='false')\n",
    "dot2"
   ]
  },
  {
   "cell_type": "markdown",
   "metadata": {},
   "source": [
    "First we need to define for what values of a certain variable we want the loop to run.  \n",
    "Example:"
   ]
  },
  {
   "cell_type": "code",
   "execution_count": 78,
   "metadata": {},
   "outputs": [],
   "source": [
    "# for i in range(0, 10):\n"
   ]
  },
  {
   "cell_type": "code",
   "execution_count": 79,
   "metadata": {},
   "outputs": [
    {
     "name": "stdout",
     "output_type": "stream",
     "text": [
      "Print out values in a range\n",
      "0  1  2  3  4  5  6  7  8  9  \n",
      "Done\n",
      "-------------------------\n"
     ]
    }
   ],
   "source": [
    "# Loop over a set of values in a range\n",
    "print('Print out values in a range')\n",
    "for i in range(0, 10):\n",
    "    print(i, ' ', end='')\n",
    "print()\n",
    "print('Done')\n",
    "\n",
    "print('-' * 25)\n",
    "\n"
   ]
  },
  {
   "cell_type": "code",
   "execution_count": 80,
   "metadata": {},
   "outputs": [
    {
     "name": "stdout",
     "output_type": "stream",
     "text": [
      "Print out values in a range with an increment of 2\n",
      "0  2  4  6  8  \n",
      "Done\n",
      "-------------------------\n"
     ]
    }
   ],
   "source": [
    "# Now use values in a range but increment by 2\n",
    "print('Print out values in a range with an increment of 2')\n",
    "for i in range(0, 10, 2):\n",
    "    print(i, ' ', end='')\n",
    "print()\n",
    "print('Done')\n",
    "\n",
    "print('-' * 25)"
   ]
  },
  {
   "cell_type": "markdown",
   "metadata": {},
   "source": [
    "## What are the differences between these two pieces of code (using the while loop and the for loop)?"
   ]
  },
  {
   "cell_type": "markdown",
   "metadata": {},
   "source": [
    "- For Loop is more concise"
   ]
  },
  {
   "cell_type": "markdown",
   "metadata": {},
   "source": [
    "- It is clear we are processing a range of values that goes from 0 to 9"
   ]
  },
  {
   "cell_type": "markdown",
   "metadata": {},
   "source": [
    "- We did not have to define the variable that is going to loop first"
   ]
  },
  {
   "cell_type": "markdown",
   "metadata": {},
   "source": [
    "## This is why For loops are more common compared to While loops."
   ]
  },
  {
   "cell_type": "markdown",
   "metadata": {},
   "source": [
    "## Break a Loop"
   ]
  },
  {
   "cell_type": "markdown",
   "metadata": {},
   "source": [
    "The break statement allows a developer to alter the normal cycle of the loop based on some criteria which may not be predictable in advance (for example it may be based on some user input).  \n",
    "The break is tipically guarded by an \"if\" statement so it is applied when needed"
   ]
  },
  {
   "cell_type": "code",
   "execution_count": 87,
   "metadata": {},
   "outputs": [
    {
     "name": "stdout",
     "output_type": "stream",
     "text": [
      "Only print code if all iterations completed\n"
     ]
    },
    {
     "name": "stdin",
     "output_type": "stream",
     "text": [
      "Enter a number to check for:  5\n"
     ]
    },
    {
     "name": "stdout",
     "output_type": "stream",
     "text": [
      "0  1  2  3  4  \n",
      "Done\n",
      "-------------------------\n"
     ]
    }
   ],
   "source": [
    "print('Only print code if all iterations completed')\n",
    "num = int(input('Enter a number to check for: '))\n",
    "for i in range(0, 6):\n",
    "    if i == num:\n",
    "        break\n",
    "    print(i, ' ', end='')\n",
    "print()\n",
    "print('Done')\n",
    "\n",
    "print('-' * 25)\n",
    "\n"
   ]
  },
  {
   "cell_type": "markdown",
   "metadata": {},
   "source": [
    "## Continue the Loop"
   ]
  },
  {
   "cell_type": "markdown",
   "metadata": {},
   "source": [
    "The continue statement also affects the flow of control within the looping constructs for and while. However, it does not terminate the whole loop; rather it only terminates the current iteration round the loop. "
   ]
  },
  {
   "cell_type": "code",
   "execution_count": 85,
   "metadata": {},
   "outputs": [
    {
     "name": "stdout",
     "output_type": "stream",
     "text": [
      "0  hey its an even number\n",
      "we love even numbers\n",
      "1  2  hey its an even number\n",
      "we love even numbers\n",
      "3  4  hey its an even number\n",
      "we love even numbers\n",
      "5  6  hey its an even number\n",
      "we love even numbers\n",
      "7  8  hey its an even number\n",
      "we love even numbers\n",
      "9  Done\n"
     ]
    }
   ],
   "source": [
    "for i in range(0, 10):\n",
    "    print(i, ' ', end='')\n",
    "    if i % 2 == 1:\n",
    "        continue\n",
    "    print('hey its an even number')\n",
    "    print('we love even numbers')\n",
    "print('Done')"
   ]
  },
  {
   "cell_type": "markdown",
   "metadata": {},
   "source": [
    "As you can see, we only print out the messages about a number being even when the values are 0, 2, 4, 6 and 8"
   ]
  },
  {
   "cell_type": "markdown",
   "metadata": {},
   "source": [
    "## Else in a Loop"
   ]
  },
  {
   "cell_type": "code",
   "execution_count": 90,
   "metadata": {},
   "outputs": [
    {
     "name": "stdin",
     "output_type": "stream",
     "text": [
      "Enter a number to check for:  7\n"
     ]
    },
    {
     "name": "stdout",
     "output_type": "stream",
     "text": [
      "0  1  2  3  4  5  \n",
      "All iterations successful\n",
      "-------------------------\n"
     ]
    }
   ],
   "source": [
    "\n",
    "num = int(input('Enter a number to check for: '))\n",
    "for i in range(0, 6):\n",
    "    if i == num:\n",
    "        break\n",
    "    print(i, ' ', end='')\n",
    "else:\n",
    "    print()\n",
    "    print('All iterations successful')\n",
    "\n",
    "print('-' * 25)"
   ]
  },
  {
   "cell_type": "markdown",
   "metadata": {},
   "source": [
    "If we run this code and enter the integer value 7 as the number to check for; then the else block executes as the if test within the for statement is never True and thus the loop is never broken, and all values are processed."
   ]
  },
  {
   "cell_type": "markdown",
   "metadata": {},
   "source": [
    "However, if we enter the value 3 as the number to check for; then the if statement will be True when the loop variable 'i' has the value 3; thus only the values 0, 1 and 2 will be processed by the loop. In this situation the else part will not be executed because not all the values in the sequence were processed:"
   ]
  },
  {
   "cell_type": "code",
   "execution_count": 91,
   "metadata": {},
   "outputs": [
    {
     "name": "stdin",
     "output_type": "stream",
     "text": [
      "Enter a number to check for:  3\n"
     ]
    },
    {
     "name": "stdout",
     "output_type": "stream",
     "text": [
      "0  1  2  -------------------------\n"
     ]
    }
   ],
   "source": [
    "\n",
    "num = int(input('Enter a number to check for: '))\n",
    "for i in range(0, 6):\n",
    "    if i == num:\n",
    "        break\n",
    "    print(i, ' ', end='')\n",
    "else:\n",
    "    print()\n",
    "    print('All iterations successful')\n",
    "\n",
    "print('-' * 25)"
   ]
  },
  {
   "cell_type": "markdown",
   "metadata": {},
   "source": [
    "## Dice Game"
   ]
  },
  {
   "cell_type": "code",
   "execution_count": 92,
   "metadata": {},
   "outputs": [
    {
     "name": "stdout",
     "output_type": "stream",
     "text": [
      "Rolling the dices...\n",
      "The values are....\n",
      "5\n",
      "4\n"
     ]
    },
    {
     "name": "stdin",
     "output_type": "stream",
     "text": [
      "Roll the dices again? (y / n):  y\n"
     ]
    },
    {
     "name": "stdout",
     "output_type": "stream",
     "text": [
      "Rolling the dices...\n",
      "The values are....\n",
      "3\n",
      "5\n"
     ]
    },
    {
     "name": "stdin",
     "output_type": "stream",
     "text": [
      "Roll the dices again? (y / n):  y\n"
     ]
    },
    {
     "name": "stdout",
     "output_type": "stream",
     "text": [
      "Rolling the dices...\n",
      "The values are....\n",
      "6\n",
      "3\n"
     ]
    },
    {
     "name": "stdin",
     "output_type": "stream",
     "text": [
      "Roll the dices again? (y / n):  n\n"
     ]
    }
   ],
   "source": [
    "import random\n",
    "\n",
    "MIN = 1\n",
    "MAX = 6\n",
    "\n",
    "roll_again = 'y'\n",
    "\n",
    "while roll_again == 'y':\n",
    "    print('Rolling the dices...')\n",
    "    print('The values are....')\n",
    "    dice1 = random.randint(MIN, MAX)\n",
    "    print(dice1)\n",
    "    dice2 = random.randint(MIN, MAX)\n",
    "    print(dice2)\n",
    "    roll_again = input('Roll the dices again? (y / n): ')"
   ]
  },
  {
   "cell_type": "markdown",
   "metadata": {},
   "source": [
    "# Number Guessing Game"
   ]
  },
  {
   "cell_type": "markdown",
   "metadata": {},
   "source": [
    "## Using if loop"
   ]
  },
  {
   "cell_type": "code",
   "execution_count": 99,
   "metadata": {},
   "outputs": [
    {
     "name": "stdout",
     "output_type": "stream",
     "text": [
      "Welcome to the number guessing game\n"
     ]
    },
    {
     "name": "stdin",
     "output_type": "stream",
     "text": [
      "Enter your guessed number:  5\n"
     ]
    },
    {
     "name": "stdout",
     "output_type": "stream",
     "text": [
      "Your guess was too high\n"
     ]
    },
    {
     "name": "stdin",
     "output_type": "stream",
     "text": [
      "Enter your guessed number:  4\n"
     ]
    },
    {
     "name": "stdout",
     "output_type": "stream",
     "text": [
      "Your guess was too high\n"
     ]
    },
    {
     "name": "stdin",
     "output_type": "stream",
     "text": [
      "Enter your guessed number:  3\n"
     ]
    },
    {
     "name": "stdout",
     "output_type": "stream",
     "text": [
      "Your guess was too high\n",
      "The number was 2\n"
     ]
    }
   ],
   "source": [
    "print('Welcome to the number guessing game')\n",
    "import random\n",
    "MIN = 0\n",
    "MAX = 10\n",
    "number = random.randint(MIN, MAX)\n",
    "\n",
    "for i in range (1,4):\n",
    "    if i > 3:\n",
    "        break\n",
    "    my_guess=int(input('Enter your guessed number: '))\n",
    "    if number == my_guess:\n",
    "        print('Well done!')\n",
    "    elif number > my_guess:\n",
    "        print('Your guess was too low')\n",
    "        i += 1\n",
    "    else:\n",
    "        print('Your guess was too high')\n",
    "        i += 1\n",
    "print('The number was', number)"
   ]
  },
  {
   "cell_type": "markdown",
   "metadata": {},
   "source": [
    "## Using while loop"
   ]
  },
  {
   "cell_type": "code",
   "execution_count": 10,
   "metadata": {},
   "outputs": [
    {
     "name": "stdout",
     "output_type": "stream",
     "text": [
      "Welcome to the number guess game\n"
     ]
    },
    {
     "name": "stdin",
     "output_type": "stream",
     "text": [
      "Please guess a number between 1 and 10:  4\n"
     ]
    },
    {
     "name": "stdout",
     "output_type": "stream",
     "text": [
      "Sorry wrong number\n",
      "Your guess was lower than the number\n"
     ]
    },
    {
     "name": "stdin",
     "output_type": "stream",
     "text": [
      "Please guess again:  5\n"
     ]
    },
    {
     "name": "stdout",
     "output_type": "stream",
     "text": [
      "Sorry wrong number\n",
      "Your guess was lower than the number\n"
     ]
    },
    {
     "name": "stdin",
     "output_type": "stream",
     "text": [
      "Please guess again:  6\n"
     ]
    },
    {
     "name": "stdout",
     "output_type": "stream",
     "text": [
      "Sorry wrong number\n",
      "Sorry - you loose\n",
      "The number you needed to guess was 10\n",
      "Game Over\n"
     ]
    }
   ],
   "source": [
    "import random\n",
    "\n",
    "print('Welcome to the number guess game')\n",
    "\n",
    "# Initialise the number to be guessed\n",
    "number_to_guess = random.randint(1,10)\n",
    "\n",
    "# Initialise the number of tries the player has made\n",
    "count_number_of_tries = 1\n",
    "\n",
    "# Obtain their initial guess\n",
    "guess = int(input('Please guess a number between 1 and 10: '))\n",
    "while number_to_guess != guess:\n",
    "    print('Sorry wrong number')\n",
    "\n",
    "    # Check to see they have not exceeded the maximum\n",
    "    # number of attempts if so break out of loop otherwise\n",
    "    # give the user come feedback\n",
    "    if count_number_of_tries == 3:\n",
    "        break\n",
    "    elif guess < number_to_guess:\n",
    "        print('Your guess was lower than the number')\n",
    "    else:\n",
    "        print('Your guess was higher than the number')\n",
    "\n",
    "    # Obtain their next guess and increment number of attempts\n",
    "    guess = int(input('Please guess again: '))\n",
    "    count_number_of_tries += 1\n",
    "\n",
    "# Check to see if they did guess the correct number\n",
    "if number_to_guess == guess:\n",
    "    print('Well done you won!')\n",
    "    print('You took', count_number_of_tries , 'goes to complete the game')\n",
    "else:\n",
    "    print(\"Sorry - you loose\")\n",
    "    print('The number you needed to guess was',\n",
    "          number_to_guess)\n",
    "\n",
    "print('Game Over')"
   ]
  },
  {
   "cell_type": "markdown",
   "metadata": {},
   "source": [
    "## Other exercises: Recursion"
   ]
  },
  {
   "cell_type": "code",
   "execution_count": 12,
   "metadata": {},
   "outputs": [
    {
     "name": "stdout",
     "output_type": "stream",
     "text": [
      "120\n"
     ]
    }
   ],
   "source": [
    "def factorial(n):\n",
    "    if n == 1: # The termination condition\n",
    "        return 1 # The base case\n",
    "    else:\n",
    "        res = n * factorial(n-1) # The recursive call\n",
    "        return res\n",
    "print(factorial(5))"
   ]
  },
  {
   "cell_type": "code",
   "execution_count": null,
   "metadata": {},
   "outputs": [],
   "source": []
  }
 ],
 "metadata": {
  "kernelspec": {
   "display_name": "Python Course",
   "language": "python",
   "name": "py_course"
  },
  "language_info": {
   "codemirror_mode": {
    "name": "ipython",
    "version": 3
   },
   "file_extension": ".py",
   "mimetype": "text/x-python",
   "name": "python",
   "nbconvert_exporter": "python",
   "pygments_lexer": "ipython3",
   "version": "3.8.5"
  }
 },
 "nbformat": 4,
 "nbformat_minor": 4
}
